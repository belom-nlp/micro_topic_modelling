{
  "nbformat": 4,
  "nbformat_minor": 0,
  "metadata": {
    "colab": {
      "provenance": [],
      "toc_visible": true,
      "authorship_tag": "ABX9TyMChBmMGPV6CoJcuGlH0eB5",
      "include_colab_link": true
    },
    "kernelspec": {
      "name": "python3",
      "display_name": "Python 3"
    },
    "language_info": {
      "name": "python"
    }
  },
  "cells": [
    {
      "cell_type": "markdown",
      "metadata": {
        "id": "view-in-github",
        "colab_type": "text"
      },
      "source": [
        "<a href=\"https://colab.research.google.com/github/belom-nlp/micro_topic_modelling/blob/main/notebooks/MTM_on_train_datasets.ipynb\" target=\"_parent\"><img src=\"https://colab.research.google.com/assets/colab-badge.svg\" alt=\"Open In Colab\"/></a>"
      ]
    },
    {
      "cell_type": "markdown",
      "source": [
        "In this notebook, we will check how"
      ],
      "metadata": {
        "id": "XqMIB-LwoVt3"
      }
    },
    {
      "cell_type": "code",
      "source": [
        "from IPython.display import clear_output\n",
        "\n",
        "! pip install sentence_transformers\n",
        "\n",
        "!pip uninstall scikit-learn -y\n",
        "\n",
        "!pip install -U scikit-learn\n",
        "\n",
        "import nltk\n",
        "nltk.download('punkt')\n",
        "\n",
        "from collections import Counter\n",
        "\n",
        "import numpy as np\n",
        "\n",
        "import torch\n",
        "\n",
        "from sklearn.decomposition import PCA\n",
        "from sklearn.cluster import HDBSCAN, KMeans\n",
        "from sklearn.feature_extraction.text import CountVectorizer\n",
        "from sklearn.decomposition import LatentDirichletAllocation, PCA\n",
        "\n",
        "from nltk.tokenize import sent_tokenize\n",
        "from nltk.corpus import stopwords\n",
        "\n",
        "from sentence_transformers import SentenceTransformer\n",
        "\n",
        "clear_output()"
      ],
      "metadata": {
        "id": "5Qit9vsUpusb"
      },
      "execution_count": 1,
      "outputs": []
    },
    {
      "cell_type": "code",
      "source": [
        "import random\n",
        "\n",
        "def set_random_seed(seed):\n",
        "    torch.manual_seed(seed)\n",
        "    torch.cuda.manual_seed(seed)\n",
        "    torch.backends.cudnn.deterministic = True\n",
        "    torch.backends.cudnn.benchmark = False\n",
        "    np.random.seed(seed)\n",
        "    random.seed(seed)\n",
        "\n",
        "set_random_seed(42)"
      ],
      "metadata": {
        "id": "_zW4jZpnMxOA"
      },
      "execution_count": null,
      "outputs": []
    },
    {
      "cell_type": "code",
      "execution_count": null,
      "metadata": {
        "id": "4okFv_-Zpcrg"
      },
      "outputs": [],
      "source": [
        "import model"
      ]
    },
    {
      "cell_type": "code",
      "source": [
        "nltk.download('stopwords')\n",
        "french_stops = list(set(stopwords.words('french')))"
      ],
      "metadata": {
        "colab": {
          "base_uri": "https://localhost:8080/"
        },
        "id": "uBSK9acp6To8",
        "outputId": "e458a536-82c4-44f4-d194-c6c05138eda5"
      },
      "execution_count": null,
      "outputs": [
        {
          "output_type": "stream",
          "name": "stderr",
          "text": [
            "[nltk_data] Downloading package stopwords to /root/nltk_data...\n",
            "[nltk_data]   Unzipping corpora/stopwords.zip.\n"
          ]
        }
      ]
    },
    {
      "cell_type": "markdown",
      "source": [
        "We will use two instances of MicroTopicModeller, for English and French texts correspondently."
      ],
      "metadata": {
        "id": "AH-v0muzo-4I"
      }
    },
    {
      "cell_type": "code",
      "source": [
        "mtm = model.MicroTopicModeller(n_clusters=12) #with English stop words by default"
      ],
      "metadata": {
        "id": "UaziqJjTp8sw"
      },
      "execution_count": null,
      "outputs": []
    },
    {
      "cell_type": "code",
      "source": [
        "mtm_fr = model.MicroTopicModeller(n_clusters=12, stop_words=french_stops) #with French stop words downloaded from nltk"
      ],
      "metadata": {
        "id": "5MA4Tv016HEZ"
      },
      "execution_count": null,
      "outputs": []
    },
    {
      "cell_type": "markdown",
      "source": [
        "## Metrics"
      ],
      "metadata": {
        "id": "K6cyNp1rwQwE"
      }
    },
    {
      "cell_type": "markdown",
      "source": [
        "Here we install metrics with which we will evaluate our results."
      ],
      "metadata": {
        "id": "ZxsRY2LPoPvx"
      }
    },
    {
      "cell_type": "code",
      "execution_count": null,
      "metadata": {
        "id": "6fft1sxSGEhm",
        "colab": {
          "base_uri": "https://localhost:8080/"
        },
        "outputId": "a7663ce6-4dd5-411c-9f5b-c192fe6782fa"
      },
      "outputs": [
        {
          "output_type": "stream",
          "name": "stdout",
          "text": [
            "Cloning into 'tm_metrics'...\n",
            "remote: Enumerating objects: 79, done.\u001b[K\n",
            "remote: Total 79 (delta 0), reused 0 (delta 0), pack-reused 79\u001b[K\n",
            "Receiving objects: 100% (79/79), 1.19 MiB | 2.81 MiB/s, done.\n",
            "Resolving deltas: 100% (22/22), done.\n"
          ]
        }
      ],
      "source": [
        "! git clone https://github.com/christianrfg/tm_metrics.git"
      ]
    },
    {
      "cell_type": "code",
      "execution_count": null,
      "metadata": {
        "id": "FbOUFJFYk9I0"
      },
      "outputs": [],
      "source": [
        "!sed -i 's/cv_model.get_feature_names()/cv_model.get_feature_names_out()/' tm_metrics/tm_metrics/feature_extraction/text.py"
      ]
    },
    {
      "cell_type": "code",
      "source": [
        "!pip install -U /content/tm_metrics"
      ],
      "metadata": {
        "colab": {
          "base_uri": "https://localhost:8080/"
        },
        "id": "HeCkzI_vzEcT",
        "outputId": "c143cd6a-5200-4dc6-930b-abdcb339cc6f"
      },
      "execution_count": null,
      "outputs": [
        {
          "output_type": "stream",
          "name": "stdout",
          "text": [
            "Processing ./tm_metrics\n",
            "  Preparing metadata (setup.py) ... \u001b[?25l\u001b[?25hdone\n",
            "Building wheels for collected packages: tm-metrics\n",
            "  Building wheel for tm-metrics (setup.py) ... \u001b[?25l\u001b[?25hdone\n",
            "  Created wheel for tm-metrics: filename=tm_metrics-0.1-py3-none-any.whl size=8201 sha256=e26886205adb427d5d570dd916e6dccc3bb3931f452b8dc199f5eff2a8a4f3f9\n",
            "  Stored in directory: /tmp/pip-ephem-wheel-cache-_0ybiksb/wheels/88/73/88/e84eb7e10e9fc6ecb2f0e636d851f394cd8789c1ed40d09cc7\n",
            "Successfully built tm-metrics\n",
            "Installing collected packages: tm-metrics\n",
            "Successfully installed tm-metrics-0.1\n"
          ]
        }
      ]
    },
    {
      "cell_type": "markdown",
      "source": [
        "Two of the metrics are counted slightly differently from their implementation in this code, therefore we will redefine them."
      ],
      "metadata": {
        "id": "8MPyKVGlpTCz"
      }
    },
    {
      "cell_type": "code",
      "source": [
        "def pmi(topic_words, word_frequency, word_frequency_in_documents, n_docs, normalise=False):\n",
        "    \"\"\"PMI/NPMI topic quality metric for a topic.\n",
        "\n",
        "    Calculates the PMI/NPMI topic quality metric for one individual topic based on the topic words.\n",
        "\n",
        "    Args:\n",
        "        topic_words: list\n",
        "            Words that compose one individual topic.\n",
        "        word_frequency: dict\n",
        "            Frequency of each word in corpus.\n",
        "        word_frequency_in_documents: dict\n",
        "            Frequency of each word for each document in corpus.\n",
        "        n_docs: int\n",
        "            Number of documents in the corpus.\n",
        "        normalise: bool, default=False\n",
        "            Where to normalise (NPMI) or not (PMI).\n",
        "\n",
        "    Returns:\n",
        "        pmi: float\n",
        "            Resultant PMI metric value for the topic.\n",
        "        npmi: float\n",
        "            Resultant NPMI metric value for the topic.\n",
        "    \"\"\"\n",
        "    n_top = len(topic_words)\n",
        "    pmi = 0.0\n",
        "    npmi = 0.0\n",
        "\n",
        "    for j in range(1, n_top):\n",
        "        for i in range(0, j):\n",
        "            ti = topic_words[i]\n",
        "            tj = topic_words[j]\n",
        "\n",
        "            c_i = word_frequency[ti]\n",
        "            c_j = word_frequency[tj]\n",
        "            c_i_and_j = len(word_frequency_in_documents[ti].intersection(word_frequency_in_documents[tj]))\n",
        "\n",
        "            dividend = (c_i_and_j + 1.0) / float(n_docs)\n",
        "            divisor = ((c_i * c_j) / float(n_docs) ** 2)\n",
        "            pmi += max([np.log(dividend / divisor), 0])\n",
        "\n",
        "            npmi += -1.0 * np.log((c_i_and_j + 0.01) / float(n_docs))\n",
        "\n",
        "    if npmi != 0:\n",
        "        npmi = pmi / npmi\n",
        "\n",
        "    if normalise:\n",
        "        return npmi\n",
        "    else:\n",
        "        return pmi"
      ],
      "metadata": {
        "id": "yru2DYj5zYCP"
      },
      "execution_count": null,
      "outputs": []
    },
    {
      "cell_type": "code",
      "execution_count": null,
      "metadata": {
        "id": "pf9mVgjlQ3M8"
      },
      "outputs": [],
      "source": [
        "from tm_metrics.feature_extraction import get_vocabulary, get_word_frequencies\n",
        "from tm_metrics.metrics import coherence"
      ]
    },
    {
      "cell_type": "code",
      "execution_count": null,
      "metadata": {
        "id": "mIBXpnpP8t5_"
      },
      "outputs": [],
      "source": [
        "import pandas as pd\n",
        "import numpy as np\n",
        "\n",
        "from sklearn.feature_extraction.text import TfidfVectorizer, CountVectorizer\n",
        "from sklearn.decomposition import NMF, LatentDirichletAllocation\n",
        "from gensim.models import Word2Vec"
      ]
    },
    {
      "cell_type": "code",
      "execution_count": null,
      "metadata": {
        "id": "IR_xR5wlS8CZ"
      },
      "outputs": [],
      "source": [
        "def prepare_data_for_metrics(data):\n",
        "  \"\"\"\n",
        "  data are prepared for metrics as expected in the installed implementation. takes a list of strings as an input\n",
        "  \"\"\"\n",
        "  n_features = int(len(data)/2)\n",
        "  tfidf_vectorizer = TfidfVectorizer(max_df=0.95, min_df=2, stop_words='english', max_features=1000)\n",
        "  tfidf = tfidf_vectorizer.fit_transform(data)\n",
        "  tfidf_feature_names = tfidf_vectorizer.get_feature_names_out()\n",
        "  vocabulary = get_vocabulary(data)\n",
        "  word_frequency, word_frequency_in_documents = get_word_frequencies(data)\n",
        "  return word_frequency, word_frequency_in_documents"
      ]
    },
    {
      "cell_type": "code",
      "execution_count": null,
      "metadata": {
        "id": "G-PJ0__M9wtq"
      },
      "outputs": [],
      "source": [
        "def count_metrics(x, word_frequency, word_frequency_in_documents):\n",
        "\n",
        "    \"\"\"\n",
        "    count PMI, NPMI, and coherence.\n",
        "    Takes topic words (list of lists of strings) and the results of prepare_data_for_metrics() function as an input\n",
        "    \"\"\"\n",
        "\n",
        "    pmi_results = []\n",
        "    npmi_results = []\n",
        "    coherence_results = []\n",
        "\n",
        "\n",
        "    n_samples=len(x)\n",
        "\n",
        "    for tw in x:\n",
        "        pmi_ = pmi(tw, word_frequency, word_frequency_in_documents, n_samples, normalise=False)\n",
        "        npmi_ = pmi(tw, word_frequency, word_frequency_in_documents, n_samples, normalise=True)\n",
        "\n",
        "        coherence_ = coherence(tw, word_frequency, word_frequency_in_documents)\n",
        "\n",
        "\n",
        "        pmi_results.append(pmi_)\n",
        "        npmi_results.append(npmi_)\n",
        "        coherence_results.append(coherence_)\n",
        "\n",
        "    return {'pmi_results': pmi_results,\n",
        "          'npmi_results': npmi_results,\n",
        "          'coherence_results': coherence_results}"
      ]
    },
    {
      "cell_type": "code",
      "execution_count": null,
      "metadata": {
        "id": "Wk6zrFp4xcl0"
      },
      "outputs": [],
      "source": [
        "def get_result_table(d):\n",
        "\n",
        "    \"\"\"\n",
        "    counts average PMI, NPMI, and coherence\n",
        "    returns Pandas dataframe with means and standard deviations for each metric\n",
        "    \"\"\"\n",
        "  pmi_results = d['pmi_results']\n",
        "  npmi_results = d['npmi_results']\n",
        "  coherence_results = d['coherence_results']\n",
        "\n",
        "\n",
        "  avg_pmi, std_pmi = np.mean(pmi_results), np.std(pmi_results)\n",
        "  avg_npmi, std_npmi = np.mean(npmi_results), np.std(npmi_results)\n",
        "  avg_coherence, std_coherence = np.mean(coherence_results), np.std(coherence_results)\n",
        "\n",
        "\n",
        "\n",
        "  data = [\n",
        "    [\"PMI\", avg_pmi, std_pmi],\n",
        "    [\"NPMI\", avg_npmi, std_npmi],\n",
        "    [\"Coherence\", avg_coherence, std_coherence],\n",
        "  ]\n",
        "  columns = [\"Metric\", \"Avg\", \"Std\"]\n",
        "  df = pd.DataFrame(data, columns=columns)\n",
        "  return df"
      ]
    },
    {
      "cell_type": "markdown",
      "source": [
        "The experiments conducted below are basically the same. We get topic words for each dataset, print them out, then count metrics and print them out."
      ],
      "metadata": {
        "id": "bXt5LxERqUZd"
      }
    },
    {
      "cell_type": "markdown",
      "source": [
        "## Coronavirus 1 Dataset"
      ],
      "metadata": {
        "id": "9SfHKLtItnRh"
      }
    },
    {
      "cell_type": "code",
      "source": [
        "with open('micro_topic_modelling/text_data/coronavirus.txt') as f:\n",
        "    lines = f.readlines()"
      ],
      "metadata": {
        "id": "yZV6fvZbu0uk"
      },
      "execution_count": null,
      "outputs": []
    },
    {
      "cell_type": "code",
      "source": [
        "distr = mtm.pipeline(lines)"
      ],
      "metadata": {
        "colab": {
          "base_uri": "https://localhost:8080/"
        },
        "id": "UySdgViGs6xT",
        "outputId": "8ab214bd-53b5-4a03-d5ca-248cb11eedfc"
      },
      "execution_count": null,
      "outputs": [
        {
          "output_type": "stream",
          "name": "stdout",
          "text": [
            "Getting sentence embeddings...\n",
            "Getting sentence clusters...\n"
          ]
        },
        {
          "output_type": "stream",
          "name": "stderr",
          "text": [
            "/usr/local/lib/python3.10/dist-packages/sklearn/cluster/_kmeans.py:1416: FutureWarning: The default value of `n_init` will change from 10 to 'auto' in 1.4. Set the value of `n_init` explicitly to suppress the warning\n",
            "  super()._check_params_vs_input(X, default_n_init=10)\n"
          ]
        },
        {
          "output_type": "stream",
          "name": "stdout",
          "text": [
            "Computing LDA...\n",
            "Preparing your results...\n",
            "Complete!\n"
          ]
        }
      ]
    },
    {
      "cell_type": "code",
      "source": [
        "for key, value in distr.items():\n",
        "    print(key, ':', ', '.join(value))"
      ],
      "metadata": {
        "colab": {
          "base_uri": "https://localhost:8080/"
        },
        "id": "kNIDMRfAv2Zs",
        "outputId": "cfee2193-b118-492a-ff63-15c500d7202e"
      },
      "execution_count": null,
      "outputs": [
        {
          "output_type": "stream",
          "name": "stdout",
          "text": [
            "topic0 : 15, human, data, population, cases, situation, probable, coronavirus, ranging, able, year, medical, organisation, said, media, origins, virus, old, second, health, died, wuhan, authorities\n",
            "topic1 : area, cases, report, worried, commission, said, virus, family, detection, widely, chinese, contact, health, new, pneumonia, attempts, wuhan, authorities, including, outbreak, hubei\n",
            "topic2 : human, area, cases, coronavirus, people, radiographs, detected, recognised, said, organisation, illness, time, tweet, virus, mystery, recommended, shortcomings, enhanced, health, things, reports, contract, eyeglasses\n",
            "topic3 : infected, sunday, 68, cases, people, commission, 324, illness, seven, condition, visited, 81, proven, fever, health, contracted, wuhan, authorities, patients, confirmed\n",
            "topic4 : spokesman, washington, department, population, epidemics, cases, conceivable, month, ministry, said, patient, mayer, fix, state, political, fact, foreign, 20, zhao, fuelled, farrar, lookout, university\n",
            "topic5 : human, population, area, cases, said, virus, mystery, did, concede, excluded, transmission, screening, australia, health, governments, contract, clear, publicly, confirmed, eyeglasses\n",
            "topic6 : huanan, largest, population, released, people, flu, hong, citizens, organisation, masks, fix, state, karnchanapimai, health, east, sars, china, farrar, mers, 2002, lookout, respiratory\n",
            "topic7 : spread, 30s, sunday, woman, cases, week, released, friday, illness, said, childhood, infection, mystery, officials, thursday, case, introduce, second, globally, fever, new, man, confirmed, announced\n",
            "topic8 : ranged, huanan, largest, population, critical, symptoms, worst, citizens, organisation, media, seven, condition, like, mystery, braced, region, fever, limited, ache, karnchanapimai, health, fuelled, farrar, authorities\n",
            "topic9 : city, spread, thermometers, used, south, philippines, hampered, illness, said, york, officials, thailand, introduce, singapore, globally, bangkok, fever, indonesia, jfk, flights, travelled, wuhan, arriving\n",
            "topic10 : huanan, seafood, population, fears, cases, worked, month, south, wild, market, urban, media, chinese, capital, health, pneumonia, million, travelled, wuhan, university, eyeglasses, viral\n",
            "common_key_words : \n"
          ]
        }
      ]
    },
    {
      "cell_type": "code",
      "source": [
        "word_frequency, word_frequency_in_documents = prepare_data_for_metrics(lines)"
      ],
      "metadata": {
        "id": "21lkcKCY0Qh7"
      },
      "execution_count": null,
      "outputs": []
    },
    {
      "cell_type": "code",
      "source": [
        "topics = []\n",
        "for key in distr.keys():\n",
        "    if key != 'common_key_words':\n",
        "        topics.append(distr[key])\n",
        "results = count_metrics(topics, word_frequency, word_frequency_in_documents)\n",
        "get_result_table(results)"
      ],
      "metadata": {
        "colab": {
          "base_uri": "https://localhost:8080/",
          "height": 143
        },
        "id": "iVyo7g_w1NLt",
        "outputId": "3bf363a8-cc9a-499b-dbfe-497ee2941271"
      },
      "execution_count": null,
      "outputs": [
        {
          "output_type": "execute_result",
          "data": {
            "text/plain": [
              "      Metric         Avg        Std\n",
              "0        PMI  402.477379  94.027514\n",
              "1       NPMI    0.556557   0.035232\n",
              "2  Coherence    0.837278   9.199869"
            ],
            "text/html": [
              "\n",
              "  <div id=\"df-a5587e5e-7bd5-453d-85d4-74af2bc5212d\" class=\"colab-df-container\">\n",
              "    <div>\n",
              "<style scoped>\n",
              "    .dataframe tbody tr th:only-of-type {\n",
              "        vertical-align: middle;\n",
              "    }\n",
              "\n",
              "    .dataframe tbody tr th {\n",
              "        vertical-align: top;\n",
              "    }\n",
              "\n",
              "    .dataframe thead th {\n",
              "        text-align: right;\n",
              "    }\n",
              "</style>\n",
              "<table border=\"1\" class=\"dataframe\">\n",
              "  <thead>\n",
              "    <tr style=\"text-align: right;\">\n",
              "      <th></th>\n",
              "      <th>Metric</th>\n",
              "      <th>Avg</th>\n",
              "      <th>Std</th>\n",
              "    </tr>\n",
              "  </thead>\n",
              "  <tbody>\n",
              "    <tr>\n",
              "      <th>0</th>\n",
              "      <td>PMI</td>\n",
              "      <td>402.477379</td>\n",
              "      <td>94.027514</td>\n",
              "    </tr>\n",
              "    <tr>\n",
              "      <th>1</th>\n",
              "      <td>NPMI</td>\n",
              "      <td>0.556557</td>\n",
              "      <td>0.035232</td>\n",
              "    </tr>\n",
              "    <tr>\n",
              "      <th>2</th>\n",
              "      <td>Coherence</td>\n",
              "      <td>0.837278</td>\n",
              "      <td>9.199869</td>\n",
              "    </tr>\n",
              "  </tbody>\n",
              "</table>\n",
              "</div>\n",
              "    <div class=\"colab-df-buttons\">\n",
              "\n",
              "  <div class=\"colab-df-container\">\n",
              "    <button class=\"colab-df-convert\" onclick=\"convertToInteractive('df-a5587e5e-7bd5-453d-85d4-74af2bc5212d')\"\n",
              "            title=\"Convert this dataframe to an interactive table.\"\n",
              "            style=\"display:none;\">\n",
              "\n",
              "  <svg xmlns=\"http://www.w3.org/2000/svg\" height=\"24px\" viewBox=\"0 -960 960 960\">\n",
              "    <path d=\"M120-120v-720h720v720H120Zm60-500h600v-160H180v160Zm220 220h160v-160H400v160Zm0 220h160v-160H400v160ZM180-400h160v-160H180v160Zm440 0h160v-160H620v160ZM180-180h160v-160H180v160Zm440 0h160v-160H620v160Z\"/>\n",
              "  </svg>\n",
              "    </button>\n",
              "\n",
              "  <style>\n",
              "    .colab-df-container {\n",
              "      display:flex;\n",
              "      gap: 12px;\n",
              "    }\n",
              "\n",
              "    .colab-df-convert {\n",
              "      background-color: #E8F0FE;\n",
              "      border: none;\n",
              "      border-radius: 50%;\n",
              "      cursor: pointer;\n",
              "      display: none;\n",
              "      fill: #1967D2;\n",
              "      height: 32px;\n",
              "      padding: 0 0 0 0;\n",
              "      width: 32px;\n",
              "    }\n",
              "\n",
              "    .colab-df-convert:hover {\n",
              "      background-color: #E2EBFA;\n",
              "      box-shadow: 0px 1px 2px rgba(60, 64, 67, 0.3), 0px 1px 3px 1px rgba(60, 64, 67, 0.15);\n",
              "      fill: #174EA6;\n",
              "    }\n",
              "\n",
              "    .colab-df-buttons div {\n",
              "      margin-bottom: 4px;\n",
              "    }\n",
              "\n",
              "    [theme=dark] .colab-df-convert {\n",
              "      background-color: #3B4455;\n",
              "      fill: #D2E3FC;\n",
              "    }\n",
              "\n",
              "    [theme=dark] .colab-df-convert:hover {\n",
              "      background-color: #434B5C;\n",
              "      box-shadow: 0px 1px 3px 1px rgba(0, 0, 0, 0.15);\n",
              "      filter: drop-shadow(0px 1px 2px rgba(0, 0, 0, 0.3));\n",
              "      fill: #FFFFFF;\n",
              "    }\n",
              "  </style>\n",
              "\n",
              "    <script>\n",
              "      const buttonEl =\n",
              "        document.querySelector('#df-a5587e5e-7bd5-453d-85d4-74af2bc5212d button.colab-df-convert');\n",
              "      buttonEl.style.display =\n",
              "        google.colab.kernel.accessAllowed ? 'block' : 'none';\n",
              "\n",
              "      async function convertToInteractive(key) {\n",
              "        const element = document.querySelector('#df-a5587e5e-7bd5-453d-85d4-74af2bc5212d');\n",
              "        const dataTable =\n",
              "          await google.colab.kernel.invokeFunction('convertToInteractive',\n",
              "                                                    [key], {});\n",
              "        if (!dataTable) return;\n",
              "\n",
              "        const docLinkHtml = 'Like what you see? Visit the ' +\n",
              "          '<a target=\"_blank\" href=https://colab.research.google.com/notebooks/data_table.ipynb>data table notebook</a>'\n",
              "          + ' to learn more about interactive tables.';\n",
              "        element.innerHTML = '';\n",
              "        dataTable['output_type'] = 'display_data';\n",
              "        await google.colab.output.renderOutput(dataTable, element);\n",
              "        const docLink = document.createElement('div');\n",
              "        docLink.innerHTML = docLinkHtml;\n",
              "        element.appendChild(docLink);\n",
              "      }\n",
              "    </script>\n",
              "  </div>\n",
              "\n",
              "\n",
              "<div id=\"df-b4e112b6-2a67-4372-8aac-d52735404fb7\">\n",
              "  <button class=\"colab-df-quickchart\" onclick=\"quickchart('df-b4e112b6-2a67-4372-8aac-d52735404fb7')\"\n",
              "            title=\"Suggest charts\"\n",
              "            style=\"display:none;\">\n",
              "\n",
              "<svg xmlns=\"http://www.w3.org/2000/svg\" height=\"24px\"viewBox=\"0 0 24 24\"\n",
              "     width=\"24px\">\n",
              "    <g>\n",
              "        <path d=\"M19 3H5c-1.1 0-2 .9-2 2v14c0 1.1.9 2 2 2h14c1.1 0 2-.9 2-2V5c0-1.1-.9-2-2-2zM9 17H7v-7h2v7zm4 0h-2V7h2v10zm4 0h-2v-4h2v4z\"/>\n",
              "    </g>\n",
              "</svg>\n",
              "  </button>\n",
              "\n",
              "<style>\n",
              "  .colab-df-quickchart {\n",
              "      --bg-color: #E8F0FE;\n",
              "      --fill-color: #1967D2;\n",
              "      --hover-bg-color: #E2EBFA;\n",
              "      --hover-fill-color: #174EA6;\n",
              "      --disabled-fill-color: #AAA;\n",
              "      --disabled-bg-color: #DDD;\n",
              "  }\n",
              "\n",
              "  [theme=dark] .colab-df-quickchart {\n",
              "      --bg-color: #3B4455;\n",
              "      --fill-color: #D2E3FC;\n",
              "      --hover-bg-color: #434B5C;\n",
              "      --hover-fill-color: #FFFFFF;\n",
              "      --disabled-bg-color: #3B4455;\n",
              "      --disabled-fill-color: #666;\n",
              "  }\n",
              "\n",
              "  .colab-df-quickchart {\n",
              "    background-color: var(--bg-color);\n",
              "    border: none;\n",
              "    border-radius: 50%;\n",
              "    cursor: pointer;\n",
              "    display: none;\n",
              "    fill: var(--fill-color);\n",
              "    height: 32px;\n",
              "    padding: 0;\n",
              "    width: 32px;\n",
              "  }\n",
              "\n",
              "  .colab-df-quickchart:hover {\n",
              "    background-color: var(--hover-bg-color);\n",
              "    box-shadow: 0 1px 2px rgba(60, 64, 67, 0.3), 0 1px 3px 1px rgba(60, 64, 67, 0.15);\n",
              "    fill: var(--button-hover-fill-color);\n",
              "  }\n",
              "\n",
              "  .colab-df-quickchart-complete:disabled,\n",
              "  .colab-df-quickchart-complete:disabled:hover {\n",
              "    background-color: var(--disabled-bg-color);\n",
              "    fill: var(--disabled-fill-color);\n",
              "    box-shadow: none;\n",
              "  }\n",
              "\n",
              "  .colab-df-spinner {\n",
              "    border: 2px solid var(--fill-color);\n",
              "    border-color: transparent;\n",
              "    border-bottom-color: var(--fill-color);\n",
              "    animation:\n",
              "      spin 1s steps(1) infinite;\n",
              "  }\n",
              "\n",
              "  @keyframes spin {\n",
              "    0% {\n",
              "      border-color: transparent;\n",
              "      border-bottom-color: var(--fill-color);\n",
              "      border-left-color: var(--fill-color);\n",
              "    }\n",
              "    20% {\n",
              "      border-color: transparent;\n",
              "      border-left-color: var(--fill-color);\n",
              "      border-top-color: var(--fill-color);\n",
              "    }\n",
              "    30% {\n",
              "      border-color: transparent;\n",
              "      border-left-color: var(--fill-color);\n",
              "      border-top-color: var(--fill-color);\n",
              "      border-right-color: var(--fill-color);\n",
              "    }\n",
              "    40% {\n",
              "      border-color: transparent;\n",
              "      border-right-color: var(--fill-color);\n",
              "      border-top-color: var(--fill-color);\n",
              "    }\n",
              "    60% {\n",
              "      border-color: transparent;\n",
              "      border-right-color: var(--fill-color);\n",
              "    }\n",
              "    80% {\n",
              "      border-color: transparent;\n",
              "      border-right-color: var(--fill-color);\n",
              "      border-bottom-color: var(--fill-color);\n",
              "    }\n",
              "    90% {\n",
              "      border-color: transparent;\n",
              "      border-bottom-color: var(--fill-color);\n",
              "    }\n",
              "  }\n",
              "</style>\n",
              "\n",
              "  <script>\n",
              "    async function quickchart(key) {\n",
              "      const quickchartButtonEl =\n",
              "        document.querySelector('#' + key + ' button');\n",
              "      quickchartButtonEl.disabled = true;  // To prevent multiple clicks.\n",
              "      quickchartButtonEl.classList.add('colab-df-spinner');\n",
              "      try {\n",
              "        const charts = await google.colab.kernel.invokeFunction(\n",
              "            'suggestCharts', [key], {});\n",
              "      } catch (error) {\n",
              "        console.error('Error during call to suggestCharts:', error);\n",
              "      }\n",
              "      quickchartButtonEl.classList.remove('colab-df-spinner');\n",
              "      quickchartButtonEl.classList.add('colab-df-quickchart-complete');\n",
              "    }\n",
              "    (() => {\n",
              "      let quickchartButtonEl =\n",
              "        document.querySelector('#df-b4e112b6-2a67-4372-8aac-d52735404fb7 button');\n",
              "      quickchartButtonEl.style.display =\n",
              "        google.colab.kernel.accessAllowed ? 'block' : 'none';\n",
              "    })();\n",
              "  </script>\n",
              "</div>\n",
              "    </div>\n",
              "  </div>\n"
            ]
          },
          "metadata": {},
          "execution_count": 29
        }
      ]
    },
    {
      "cell_type": "markdown",
      "source": [
        "## Coronavirus 2 Dataset"
      ],
      "metadata": {
        "id": "-tlhKi432IXm"
      }
    },
    {
      "cell_type": "code",
      "source": [
        "with open('micro_topic_modelling/text_data/coronavirus_part_2.txt') as f:\n",
        "    lines = f.read()"
      ],
      "metadata": {
        "id": "zgryL4Sw2IXn"
      },
      "execution_count": null,
      "outputs": []
    },
    {
      "cell_type": "code",
      "source": [
        "distr = mtm.pipeline(lines)"
      ],
      "metadata": {
        "colab": {
          "base_uri": "https://localhost:8080/"
        },
        "outputId": "a5560366-cf52-424b-99f0-3842b79d8c90",
        "id": "eZ6UolWA2IXo"
      },
      "execution_count": null,
      "outputs": [
        {
          "output_type": "stream",
          "name": "stdout",
          "text": [
            "Getting sentence embeddings...\n",
            "Getting sentence clusters...\n"
          ]
        },
        {
          "output_type": "stream",
          "name": "stderr",
          "text": [
            "/usr/local/lib/python3.10/dist-packages/sklearn/cluster/_kmeans.py:1416: FutureWarning: The default value of `n_init` will change from 10 to 'auto' in 1.4. Set the value of `n_init` explicitly to suppress the warning\n",
            "  super()._check_params_vs_input(X, default_n_init=10)\n"
          ]
        },
        {
          "output_type": "stream",
          "name": "stdout",
          "text": [
            "Computing LDA...\n",
            "Preparing your results...\n",
            "Complete!\n"
          ]
        }
      ]
    },
    {
      "cell_type": "code",
      "source": [
        "for key, value in distr.items():\n",
        "    print(key, ':', ', '.join(value))"
      ],
      "metadata": {
        "colab": {
          "base_uri": "https://localhost:8080/"
        },
        "outputId": "d6a21a97-868b-41b1-e4ad-3a801f3ef544",
        "id": "o_GM_n3r2IXo"
      },
      "execution_count": null,
      "outputs": [
        {
          "output_type": "stream",
          "name": "stdout",
          "text": [
            "topic0 : city, spring, hubei, stop, ezhou, october, according, necessities, friday, museum, train, 95, said, passengers, general, huanggang, crowded, forbidden, cancelled, health, stations, diseases, session, distance, ignoring\n",
            "topic1 : city, asked, facebook, tourists, primary, president, responsibly, special, said, care, rising, visit, ing, state, school, told, reported, nicola, leave, china, wuhan, session, come, tsai, 26\n",
            "topic2 : kong, people, hong, lunar, year, said, media, virus, developed, authority, china, new, sars, believed, province, wuhan, concern, confirmed, outbreak, tripled, hubei\n",
            "topic3 : britain, time, said, study, strategy, head, scheduled, pandemics, told, uk, brexit, reported, existential, chief, likely, government, security, outhwaite, diseases, come, outbreak, ghs\n",
            "topic4 : cafes, apart, stop, tour, people, markets, police, internet, said, outdoor, events, masks, scale, park, ordered, prohibited, hotels, playgrounds, cultural, banned, rumours, bs, local, notice, halted\n",
            "topic5 : italy, korea, range, london, people, police, mother, drew, avoid, time, north, crowded, distancing, social, pubs, forced, limited, lockdown, countries, schools, national, parks, small, enforce, weekend\n",
            "topic6 : pandemic, spread, festival, hopefully, critically, mutate, people, johnson, seen, said, realised, virus, soon, outrun, health, risk, relax, true, galea, suspect, objectively, closing\n",
            "topic7 : say, hopefully, official, death, critical, walk, 540, 000, patients, friday, people, contacted, 95, current, identified, said, virus, contacts, thursday, green, chinese, watch, ill, authorities, gatherings\n",
            "topic8 : involve, till, situation, necessities, late, responsibly, current, little, rising, long, crowded, travel, weeks, told, enforcement, reported, biosecurity, restrictions, new, diseases, session, placing, meant, ignoring, president\n",
            "topic9 : gap, hopefully, domestic, walk, boyd, severe, talk, impacts, said, strategy, action, perspective, green, power, pandemics, failed, government, approach, efforts, ill, gatherings, environment, planning\n",
            "topic10 : priority, mortality, cases, result, aspect, li, tedros, measures, said, strategy, abroad, travel, handling, expertise, crowds, underplaying, health, china, deeper, parcels, risks, emergency, total, locally\n",
            "common_key_words : \n"
          ]
        }
      ]
    },
    {
      "cell_type": "code",
      "source": [
        "with open('micro_topic_modelling/text_data/coronavirus_part_2.txt') as f:\n",
        "    lines = f.readlines()\n",
        "word_frequency, word_frequency_in_documents = prepare_data_for_metrics(lines)"
      ],
      "metadata": {
        "id": "aSF_eGF-2IXo"
      },
      "execution_count": null,
      "outputs": []
    },
    {
      "cell_type": "code",
      "source": [
        "topics = []\n",
        "for key in distr.keys():\n",
        "    if key != 'common_key_words':\n",
        "        topics.append(distr[key])\n",
        "results = count_metrics(topics, word_frequency, word_frequency_in_documents)\n",
        "get_result_table(results)"
      ],
      "metadata": {
        "colab": {
          "base_uri": "https://localhost:8080/",
          "height": 143
        },
        "outputId": "2eb71746-4763-4adb-de21-d200ae720819",
        "id": "7fljLNpt2IXp"
      },
      "execution_count": null,
      "outputs": [
        {
          "output_type": "execute_result",
          "data": {
            "text/plain": [
              "      Metric         Avg        Std\n",
              "0        PMI  514.941049  68.439725\n",
              "1       NPMI    0.602925   0.172321\n",
              "2  Coherence    6.007732  12.317476"
            ],
            "text/html": [
              "\n",
              "  <div id=\"df-3e1f671e-8cc5-4b08-bb32-b9f2a46a3128\" class=\"colab-df-container\">\n",
              "    <div>\n",
              "<style scoped>\n",
              "    .dataframe tbody tr th:only-of-type {\n",
              "        vertical-align: middle;\n",
              "    }\n",
              "\n",
              "    .dataframe tbody tr th {\n",
              "        vertical-align: top;\n",
              "    }\n",
              "\n",
              "    .dataframe thead th {\n",
              "        text-align: right;\n",
              "    }\n",
              "</style>\n",
              "<table border=\"1\" class=\"dataframe\">\n",
              "  <thead>\n",
              "    <tr style=\"text-align: right;\">\n",
              "      <th></th>\n",
              "      <th>Metric</th>\n",
              "      <th>Avg</th>\n",
              "      <th>Std</th>\n",
              "    </tr>\n",
              "  </thead>\n",
              "  <tbody>\n",
              "    <tr>\n",
              "      <th>0</th>\n",
              "      <td>PMI</td>\n",
              "      <td>514.941049</td>\n",
              "      <td>68.439725</td>\n",
              "    </tr>\n",
              "    <tr>\n",
              "      <th>1</th>\n",
              "      <td>NPMI</td>\n",
              "      <td>0.602925</td>\n",
              "      <td>0.172321</td>\n",
              "    </tr>\n",
              "    <tr>\n",
              "      <th>2</th>\n",
              "      <td>Coherence</td>\n",
              "      <td>6.007732</td>\n",
              "      <td>12.317476</td>\n",
              "    </tr>\n",
              "  </tbody>\n",
              "</table>\n",
              "</div>\n",
              "    <div class=\"colab-df-buttons\">\n",
              "\n",
              "  <div class=\"colab-df-container\">\n",
              "    <button class=\"colab-df-convert\" onclick=\"convertToInteractive('df-3e1f671e-8cc5-4b08-bb32-b9f2a46a3128')\"\n",
              "            title=\"Convert this dataframe to an interactive table.\"\n",
              "            style=\"display:none;\">\n",
              "\n",
              "  <svg xmlns=\"http://www.w3.org/2000/svg\" height=\"24px\" viewBox=\"0 -960 960 960\">\n",
              "    <path d=\"M120-120v-720h720v720H120Zm60-500h600v-160H180v160Zm220 220h160v-160H400v160Zm0 220h160v-160H400v160ZM180-400h160v-160H180v160Zm440 0h160v-160H620v160ZM180-180h160v-160H180v160Zm440 0h160v-160H620v160Z\"/>\n",
              "  </svg>\n",
              "    </button>\n",
              "\n",
              "  <style>\n",
              "    .colab-df-container {\n",
              "      display:flex;\n",
              "      gap: 12px;\n",
              "    }\n",
              "\n",
              "    .colab-df-convert {\n",
              "      background-color: #E8F0FE;\n",
              "      border: none;\n",
              "      border-radius: 50%;\n",
              "      cursor: pointer;\n",
              "      display: none;\n",
              "      fill: #1967D2;\n",
              "      height: 32px;\n",
              "      padding: 0 0 0 0;\n",
              "      width: 32px;\n",
              "    }\n",
              "\n",
              "    .colab-df-convert:hover {\n",
              "      background-color: #E2EBFA;\n",
              "      box-shadow: 0px 1px 2px rgba(60, 64, 67, 0.3), 0px 1px 3px 1px rgba(60, 64, 67, 0.15);\n",
              "      fill: #174EA6;\n",
              "    }\n",
              "\n",
              "    .colab-df-buttons div {\n",
              "      margin-bottom: 4px;\n",
              "    }\n",
              "\n",
              "    [theme=dark] .colab-df-convert {\n",
              "      background-color: #3B4455;\n",
              "      fill: #D2E3FC;\n",
              "    }\n",
              "\n",
              "    [theme=dark] .colab-df-convert:hover {\n",
              "      background-color: #434B5C;\n",
              "      box-shadow: 0px 1px 3px 1px rgba(0, 0, 0, 0.15);\n",
              "      filter: drop-shadow(0px 1px 2px rgba(0, 0, 0, 0.3));\n",
              "      fill: #FFFFFF;\n",
              "    }\n",
              "  </style>\n",
              "\n",
              "    <script>\n",
              "      const buttonEl =\n",
              "        document.querySelector('#df-3e1f671e-8cc5-4b08-bb32-b9f2a46a3128 button.colab-df-convert');\n",
              "      buttonEl.style.display =\n",
              "        google.colab.kernel.accessAllowed ? 'block' : 'none';\n",
              "\n",
              "      async function convertToInteractive(key) {\n",
              "        const element = document.querySelector('#df-3e1f671e-8cc5-4b08-bb32-b9f2a46a3128');\n",
              "        const dataTable =\n",
              "          await google.colab.kernel.invokeFunction('convertToInteractive',\n",
              "                                                    [key], {});\n",
              "        if (!dataTable) return;\n",
              "\n",
              "        const docLinkHtml = 'Like what you see? Visit the ' +\n",
              "          '<a target=\"_blank\" href=https://colab.research.google.com/notebooks/data_table.ipynb>data table notebook</a>'\n",
              "          + ' to learn more about interactive tables.';\n",
              "        element.innerHTML = '';\n",
              "        dataTable['output_type'] = 'display_data';\n",
              "        await google.colab.output.renderOutput(dataTable, element);\n",
              "        const docLink = document.createElement('div');\n",
              "        docLink.innerHTML = docLinkHtml;\n",
              "        element.appendChild(docLink);\n",
              "      }\n",
              "    </script>\n",
              "  </div>\n",
              "\n",
              "\n",
              "<div id=\"df-669365f7-c5d2-4f1c-a082-5ba443683a07\">\n",
              "  <button class=\"colab-df-quickchart\" onclick=\"quickchart('df-669365f7-c5d2-4f1c-a082-5ba443683a07')\"\n",
              "            title=\"Suggest charts\"\n",
              "            style=\"display:none;\">\n",
              "\n",
              "<svg xmlns=\"http://www.w3.org/2000/svg\" height=\"24px\"viewBox=\"0 0 24 24\"\n",
              "     width=\"24px\">\n",
              "    <g>\n",
              "        <path d=\"M19 3H5c-1.1 0-2 .9-2 2v14c0 1.1.9 2 2 2h14c1.1 0 2-.9 2-2V5c0-1.1-.9-2-2-2zM9 17H7v-7h2v7zm4 0h-2V7h2v10zm4 0h-2v-4h2v4z\"/>\n",
              "    </g>\n",
              "</svg>\n",
              "  </button>\n",
              "\n",
              "<style>\n",
              "  .colab-df-quickchart {\n",
              "      --bg-color: #E8F0FE;\n",
              "      --fill-color: #1967D2;\n",
              "      --hover-bg-color: #E2EBFA;\n",
              "      --hover-fill-color: #174EA6;\n",
              "      --disabled-fill-color: #AAA;\n",
              "      --disabled-bg-color: #DDD;\n",
              "  }\n",
              "\n",
              "  [theme=dark] .colab-df-quickchart {\n",
              "      --bg-color: #3B4455;\n",
              "      --fill-color: #D2E3FC;\n",
              "      --hover-bg-color: #434B5C;\n",
              "      --hover-fill-color: #FFFFFF;\n",
              "      --disabled-bg-color: #3B4455;\n",
              "      --disabled-fill-color: #666;\n",
              "  }\n",
              "\n",
              "  .colab-df-quickchart {\n",
              "    background-color: var(--bg-color);\n",
              "    border: none;\n",
              "    border-radius: 50%;\n",
              "    cursor: pointer;\n",
              "    display: none;\n",
              "    fill: var(--fill-color);\n",
              "    height: 32px;\n",
              "    padding: 0;\n",
              "    width: 32px;\n",
              "  }\n",
              "\n",
              "  .colab-df-quickchart:hover {\n",
              "    background-color: var(--hover-bg-color);\n",
              "    box-shadow: 0 1px 2px rgba(60, 64, 67, 0.3), 0 1px 3px 1px rgba(60, 64, 67, 0.15);\n",
              "    fill: var(--button-hover-fill-color);\n",
              "  }\n",
              "\n",
              "  .colab-df-quickchart-complete:disabled,\n",
              "  .colab-df-quickchart-complete:disabled:hover {\n",
              "    background-color: var(--disabled-bg-color);\n",
              "    fill: var(--disabled-fill-color);\n",
              "    box-shadow: none;\n",
              "  }\n",
              "\n",
              "  .colab-df-spinner {\n",
              "    border: 2px solid var(--fill-color);\n",
              "    border-color: transparent;\n",
              "    border-bottom-color: var(--fill-color);\n",
              "    animation:\n",
              "      spin 1s steps(1) infinite;\n",
              "  }\n",
              "\n",
              "  @keyframes spin {\n",
              "    0% {\n",
              "      border-color: transparent;\n",
              "      border-bottom-color: var(--fill-color);\n",
              "      border-left-color: var(--fill-color);\n",
              "    }\n",
              "    20% {\n",
              "      border-color: transparent;\n",
              "      border-left-color: var(--fill-color);\n",
              "      border-top-color: var(--fill-color);\n",
              "    }\n",
              "    30% {\n",
              "      border-color: transparent;\n",
              "      border-left-color: var(--fill-color);\n",
              "      border-top-color: var(--fill-color);\n",
              "      border-right-color: var(--fill-color);\n",
              "    }\n",
              "    40% {\n",
              "      border-color: transparent;\n",
              "      border-right-color: var(--fill-color);\n",
              "      border-top-color: var(--fill-color);\n",
              "    }\n",
              "    60% {\n",
              "      border-color: transparent;\n",
              "      border-right-color: var(--fill-color);\n",
              "    }\n",
              "    80% {\n",
              "      border-color: transparent;\n",
              "      border-right-color: var(--fill-color);\n",
              "      border-bottom-color: var(--fill-color);\n",
              "    }\n",
              "    90% {\n",
              "      border-color: transparent;\n",
              "      border-bottom-color: var(--fill-color);\n",
              "    }\n",
              "  }\n",
              "</style>\n",
              "\n",
              "  <script>\n",
              "    async function quickchart(key) {\n",
              "      const quickchartButtonEl =\n",
              "        document.querySelector('#' + key + ' button');\n",
              "      quickchartButtonEl.disabled = true;  // To prevent multiple clicks.\n",
              "      quickchartButtonEl.classList.add('colab-df-spinner');\n",
              "      try {\n",
              "        const charts = await google.colab.kernel.invokeFunction(\n",
              "            'suggestCharts', [key], {});\n",
              "      } catch (error) {\n",
              "        console.error('Error during call to suggestCharts:', error);\n",
              "      }\n",
              "      quickchartButtonEl.classList.remove('colab-df-spinner');\n",
              "      quickchartButtonEl.classList.add('colab-df-quickchart-complete');\n",
              "    }\n",
              "    (() => {\n",
              "      let quickchartButtonEl =\n",
              "        document.querySelector('#df-669365f7-c5d2-4f1c-a082-5ba443683a07 button');\n",
              "      quickchartButtonEl.style.display =\n",
              "        google.colab.kernel.accessAllowed ? 'block' : 'none';\n",
              "    })();\n",
              "  </script>\n",
              "</div>\n",
              "    </div>\n",
              "  </div>\n"
            ]
          },
          "metadata": {},
          "execution_count": 59
        }
      ]
    },
    {
      "cell_type": "code",
      "source": [],
      "metadata": {
        "id": "p35lT-0n55n3"
      },
      "execution_count": null,
      "outputs": []
    },
    {
      "cell_type": "markdown",
      "source": [
        "## French Coronavirus Dataset"
      ],
      "metadata": {
        "id": "Hxm_7Qwg2Ixq"
      }
    },
    {
      "cell_type": "code",
      "source": [
        "with open('micro_topic_modelling/text_data/french_coronavirus.txt') as f:\n",
        "    lines = f.read()"
      ],
      "metadata": {
        "id": "wbRe8mji2Ixs"
      },
      "execution_count": null,
      "outputs": []
    },
    {
      "cell_type": "code",
      "source": [
        "distr = mtm_fr.pipeline(lines)"
      ],
      "metadata": {
        "colab": {
          "base_uri": "https://localhost:8080/"
        },
        "outputId": "1764d38c-1486-4868-880c-180d9f02d77a",
        "id": "KAaXT4GB2Ixt"
      },
      "execution_count": null,
      "outputs": [
        {
          "output_type": "stream",
          "name": "stdout",
          "text": [
            "Getting sentence embeddings...\n",
            "Getting sentence clusters...\n",
            "Computing LDA...\n"
          ]
        },
        {
          "output_type": "stream",
          "name": "stderr",
          "text": [
            "/usr/local/lib/python3.10/dist-packages/sklearn/cluster/_kmeans.py:1416: FutureWarning: The default value of `n_init` will change from 10 to 'auto' in 1.4. Set the value of `n_init` explicitly to suppress the warning\n",
            "  super()._check_params_vs_input(X, default_n_init=10)\n"
          ]
        },
        {
          "output_type": "stream",
          "name": "stdout",
          "text": [
            "Preparing your results...\n",
            "Complete!\n"
          ]
        }
      ]
    },
    {
      "cell_type": "code",
      "source": [
        "for key, value in distr.items():\n",
        "    print(key, ':', ', '.join(value))"
      ],
      "metadata": {
        "colab": {
          "base_uri": "https://localhost:8080/"
        },
        "outputId": "8751c039-e36a-49d1-dc1f-348d35b55702",
        "id": "JWH1B_y42Ixt"
      },
      "execution_count": null,
      "outputs": [
        {
          "output_type": "stream",
          "name": "stdout",
          "text": [
            "topic0 : doses, signe, satisfait, vu, milliard, vaccin, pays, rapport, arme, certainement, retardée, vaccination, virus, comme, significatif, campagne, plus, oms, nouvelle, contre, dmitriev, très, mondiale\n",
            "topic1 : étude, grand, rapport, vacciner, début, sondage, vaccination, directeur, nonagénaire, où, intentions, faire, 19, aucune, france, sort, plus, saint, assure, très, sud, français\n",
            "topic2 : olivier, alarmant, grand, côté, week, signal, milliard, retraitée, pasteur, sécurité, hors, être, directeur, loin, suivent, end, bon, collègues, massives, sort, saint, très, produire, nuit, observé\n",
            "topic3 : doses, salle, lieux, tour, arrivées, bertheau, vaccin, marie, raymonda, vaccination, problème, opération, heure, centre, aucune, sûr, gamaleya, absolument, minutes, quart, déjà, produire, cloche, semaine\n",
            "topic4 : personnes, volontaires, 16, réaction, toutefois, 000, vaccin, placebo, ligne, produit, groupe, dont, phase, italie, heureuse, milliers, également, plus, effets, ans, essai, tous, allemagne, ailleurs\n",
            "topic5 : penser, marché, mutants, grand, spoutnik, pasteur, vaccin, direction, hors, tenu, directeur, suivent, bon, russe, monde, tout, résultats, collègues, sort, saint, août, très, russie\n",
            "topic6 : olivier, vers, retards, doivent, dizaine, milliard, pasteur, sortie, hors, accumulés, suivent, attendre, détriment, monde, bon, tout, collègues, accueillir, bien, massives, ici, devant, produire, nuit, froid\n",
            "topic7 : olivier, vingtaine, espoir, soins, milliard, début, vacciner, référence, unité, agence, soignants, seine, âgées, pensionnaires, gériatrique, france, durée, massives, covid, longue, saint, produire, nuit, appuie, ap\n",
            "topic8 : santé, elles, rendre, twitter, rien, délégation, confirmation, matin, annonce, possiblement, attendu, leurs, britannique, où, attendre, va, semaine, décembre, sort, territoire, prochaine, savoir, épidémie, français\n",
            "topic9 : dernière, 55, selon, afp, latine, coronavirus, mortes, etats, 193, réanimation, nouveau, 650, confirmés, restent, 481, 62, unis, 620, france, covid, plus, mois, publique, morts, 397\n",
            "topic10 : étude, secondaires, rendez, grand, avant, pasteur, pays, faible, hors, jours, avoir, suivent, raison, difficultés, deux, bon, monde, comme, collègues, vaccinale, plus, devant, première, trop, mal\n",
            "common_key_words : \n"
          ]
        }
      ]
    },
    {
      "cell_type": "code",
      "source": [
        "with open('micro_topic_modelling/text_data/french_coronavirus.txt') as f:\n",
        "    lines = f.readlines()\n",
        "word_frequency, word_frequency_in_documents = prepare_data_for_metrics(lines)"
      ],
      "metadata": {
        "id": "5MseiFb42Ixu"
      },
      "execution_count": null,
      "outputs": []
    },
    {
      "cell_type": "code",
      "source": [
        "topics = []\n",
        "for key in distr.keys():\n",
        "    if key != 'common_key_words':\n",
        "        topics.append(distr[key])\n",
        "results = count_metrics(topics, word_frequency, word_frequency_in_documents)\n",
        "get_result_table(results)"
      ],
      "metadata": {
        "colab": {
          "base_uri": "https://localhost:8080/",
          "height": 143
        },
        "outputId": "a9ceb10d-b3d8-45d1-c48c-1d8f3f871e96",
        "id": "Er59HG6u2Ixv"
      },
      "execution_count": null,
      "outputs": [
        {
          "output_type": "execute_result",
          "data": {
            "text/plain": [
              "      Metric         Avg        Std\n",
              "0        PMI  577.015960  91.154104\n",
              "1       NPMI    0.535720   0.073373\n",
              "2  Coherence   13.345617   8.101391"
            ],
            "text/html": [
              "\n",
              "  <div id=\"df-76ee16cb-3870-4a44-888a-083221a81353\" class=\"colab-df-container\">\n",
              "    <div>\n",
              "<style scoped>\n",
              "    .dataframe tbody tr th:only-of-type {\n",
              "        vertical-align: middle;\n",
              "    }\n",
              "\n",
              "    .dataframe tbody tr th {\n",
              "        vertical-align: top;\n",
              "    }\n",
              "\n",
              "    .dataframe thead th {\n",
              "        text-align: right;\n",
              "    }\n",
              "</style>\n",
              "<table border=\"1\" class=\"dataframe\">\n",
              "  <thead>\n",
              "    <tr style=\"text-align: right;\">\n",
              "      <th></th>\n",
              "      <th>Metric</th>\n",
              "      <th>Avg</th>\n",
              "      <th>Std</th>\n",
              "    </tr>\n",
              "  </thead>\n",
              "  <tbody>\n",
              "    <tr>\n",
              "      <th>0</th>\n",
              "      <td>PMI</td>\n",
              "      <td>577.015960</td>\n",
              "      <td>91.154104</td>\n",
              "    </tr>\n",
              "    <tr>\n",
              "      <th>1</th>\n",
              "      <td>NPMI</td>\n",
              "      <td>0.535720</td>\n",
              "      <td>0.073373</td>\n",
              "    </tr>\n",
              "    <tr>\n",
              "      <th>2</th>\n",
              "      <td>Coherence</td>\n",
              "      <td>13.345617</td>\n",
              "      <td>8.101391</td>\n",
              "    </tr>\n",
              "  </tbody>\n",
              "</table>\n",
              "</div>\n",
              "    <div class=\"colab-df-buttons\">\n",
              "\n",
              "  <div class=\"colab-df-container\">\n",
              "    <button class=\"colab-df-convert\" onclick=\"convertToInteractive('df-76ee16cb-3870-4a44-888a-083221a81353')\"\n",
              "            title=\"Convert this dataframe to an interactive table.\"\n",
              "            style=\"display:none;\">\n",
              "\n",
              "  <svg xmlns=\"http://www.w3.org/2000/svg\" height=\"24px\" viewBox=\"0 -960 960 960\">\n",
              "    <path d=\"M120-120v-720h720v720H120Zm60-500h600v-160H180v160Zm220 220h160v-160H400v160Zm0 220h160v-160H400v160ZM180-400h160v-160H180v160Zm440 0h160v-160H620v160ZM180-180h160v-160H180v160Zm440 0h160v-160H620v160Z\"/>\n",
              "  </svg>\n",
              "    </button>\n",
              "\n",
              "  <style>\n",
              "    .colab-df-container {\n",
              "      display:flex;\n",
              "      gap: 12px;\n",
              "    }\n",
              "\n",
              "    .colab-df-convert {\n",
              "      background-color: #E8F0FE;\n",
              "      border: none;\n",
              "      border-radius: 50%;\n",
              "      cursor: pointer;\n",
              "      display: none;\n",
              "      fill: #1967D2;\n",
              "      height: 32px;\n",
              "      padding: 0 0 0 0;\n",
              "      width: 32px;\n",
              "    }\n",
              "\n",
              "    .colab-df-convert:hover {\n",
              "      background-color: #E2EBFA;\n",
              "      box-shadow: 0px 1px 2px rgba(60, 64, 67, 0.3), 0px 1px 3px 1px rgba(60, 64, 67, 0.15);\n",
              "      fill: #174EA6;\n",
              "    }\n",
              "\n",
              "    .colab-df-buttons div {\n",
              "      margin-bottom: 4px;\n",
              "    }\n",
              "\n",
              "    [theme=dark] .colab-df-convert {\n",
              "      background-color: #3B4455;\n",
              "      fill: #D2E3FC;\n",
              "    }\n",
              "\n",
              "    [theme=dark] .colab-df-convert:hover {\n",
              "      background-color: #434B5C;\n",
              "      box-shadow: 0px 1px 3px 1px rgba(0, 0, 0, 0.15);\n",
              "      filter: drop-shadow(0px 1px 2px rgba(0, 0, 0, 0.3));\n",
              "      fill: #FFFFFF;\n",
              "    }\n",
              "  </style>\n",
              "\n",
              "    <script>\n",
              "      const buttonEl =\n",
              "        document.querySelector('#df-76ee16cb-3870-4a44-888a-083221a81353 button.colab-df-convert');\n",
              "      buttonEl.style.display =\n",
              "        google.colab.kernel.accessAllowed ? 'block' : 'none';\n",
              "\n",
              "      async function convertToInteractive(key) {\n",
              "        const element = document.querySelector('#df-76ee16cb-3870-4a44-888a-083221a81353');\n",
              "        const dataTable =\n",
              "          await google.colab.kernel.invokeFunction('convertToInteractive',\n",
              "                                                    [key], {});\n",
              "        if (!dataTable) return;\n",
              "\n",
              "        const docLinkHtml = 'Like what you see? Visit the ' +\n",
              "          '<a target=\"_blank\" href=https://colab.research.google.com/notebooks/data_table.ipynb>data table notebook</a>'\n",
              "          + ' to learn more about interactive tables.';\n",
              "        element.innerHTML = '';\n",
              "        dataTable['output_type'] = 'display_data';\n",
              "        await google.colab.output.renderOutput(dataTable, element);\n",
              "        const docLink = document.createElement('div');\n",
              "        docLink.innerHTML = docLinkHtml;\n",
              "        element.appendChild(docLink);\n",
              "      }\n",
              "    </script>\n",
              "  </div>\n",
              "\n",
              "\n",
              "<div id=\"df-25654818-d0ec-4729-9058-a13dc10d1a70\">\n",
              "  <button class=\"colab-df-quickchart\" onclick=\"quickchart('df-25654818-d0ec-4729-9058-a13dc10d1a70')\"\n",
              "            title=\"Suggest charts\"\n",
              "            style=\"display:none;\">\n",
              "\n",
              "<svg xmlns=\"http://www.w3.org/2000/svg\" height=\"24px\"viewBox=\"0 0 24 24\"\n",
              "     width=\"24px\">\n",
              "    <g>\n",
              "        <path d=\"M19 3H5c-1.1 0-2 .9-2 2v14c0 1.1.9 2 2 2h14c1.1 0 2-.9 2-2V5c0-1.1-.9-2-2-2zM9 17H7v-7h2v7zm4 0h-2V7h2v10zm4 0h-2v-4h2v4z\"/>\n",
              "    </g>\n",
              "</svg>\n",
              "  </button>\n",
              "\n",
              "<style>\n",
              "  .colab-df-quickchart {\n",
              "      --bg-color: #E8F0FE;\n",
              "      --fill-color: #1967D2;\n",
              "      --hover-bg-color: #E2EBFA;\n",
              "      --hover-fill-color: #174EA6;\n",
              "      --disabled-fill-color: #AAA;\n",
              "      --disabled-bg-color: #DDD;\n",
              "  }\n",
              "\n",
              "  [theme=dark] .colab-df-quickchart {\n",
              "      --bg-color: #3B4455;\n",
              "      --fill-color: #D2E3FC;\n",
              "      --hover-bg-color: #434B5C;\n",
              "      --hover-fill-color: #FFFFFF;\n",
              "      --disabled-bg-color: #3B4455;\n",
              "      --disabled-fill-color: #666;\n",
              "  }\n",
              "\n",
              "  .colab-df-quickchart {\n",
              "    background-color: var(--bg-color);\n",
              "    border: none;\n",
              "    border-radius: 50%;\n",
              "    cursor: pointer;\n",
              "    display: none;\n",
              "    fill: var(--fill-color);\n",
              "    height: 32px;\n",
              "    padding: 0;\n",
              "    width: 32px;\n",
              "  }\n",
              "\n",
              "  .colab-df-quickchart:hover {\n",
              "    background-color: var(--hover-bg-color);\n",
              "    box-shadow: 0 1px 2px rgba(60, 64, 67, 0.3), 0 1px 3px 1px rgba(60, 64, 67, 0.15);\n",
              "    fill: var(--button-hover-fill-color);\n",
              "  }\n",
              "\n",
              "  .colab-df-quickchart-complete:disabled,\n",
              "  .colab-df-quickchart-complete:disabled:hover {\n",
              "    background-color: var(--disabled-bg-color);\n",
              "    fill: var(--disabled-fill-color);\n",
              "    box-shadow: none;\n",
              "  }\n",
              "\n",
              "  .colab-df-spinner {\n",
              "    border: 2px solid var(--fill-color);\n",
              "    border-color: transparent;\n",
              "    border-bottom-color: var(--fill-color);\n",
              "    animation:\n",
              "      spin 1s steps(1) infinite;\n",
              "  }\n",
              "\n",
              "  @keyframes spin {\n",
              "    0% {\n",
              "      border-color: transparent;\n",
              "      border-bottom-color: var(--fill-color);\n",
              "      border-left-color: var(--fill-color);\n",
              "    }\n",
              "    20% {\n",
              "      border-color: transparent;\n",
              "      border-left-color: var(--fill-color);\n",
              "      border-top-color: var(--fill-color);\n",
              "    }\n",
              "    30% {\n",
              "      border-color: transparent;\n",
              "      border-left-color: var(--fill-color);\n",
              "      border-top-color: var(--fill-color);\n",
              "      border-right-color: var(--fill-color);\n",
              "    }\n",
              "    40% {\n",
              "      border-color: transparent;\n",
              "      border-right-color: var(--fill-color);\n",
              "      border-top-color: var(--fill-color);\n",
              "    }\n",
              "    60% {\n",
              "      border-color: transparent;\n",
              "      border-right-color: var(--fill-color);\n",
              "    }\n",
              "    80% {\n",
              "      border-color: transparent;\n",
              "      border-right-color: var(--fill-color);\n",
              "      border-bottom-color: var(--fill-color);\n",
              "    }\n",
              "    90% {\n",
              "      border-color: transparent;\n",
              "      border-bottom-color: var(--fill-color);\n",
              "    }\n",
              "  }\n",
              "</style>\n",
              "\n",
              "  <script>\n",
              "    async function quickchart(key) {\n",
              "      const quickchartButtonEl =\n",
              "        document.querySelector('#' + key + ' button');\n",
              "      quickchartButtonEl.disabled = true;  // To prevent multiple clicks.\n",
              "      quickchartButtonEl.classList.add('colab-df-spinner');\n",
              "      try {\n",
              "        const charts = await google.colab.kernel.invokeFunction(\n",
              "            'suggestCharts', [key], {});\n",
              "      } catch (error) {\n",
              "        console.error('Error during call to suggestCharts:', error);\n",
              "      }\n",
              "      quickchartButtonEl.classList.remove('colab-df-spinner');\n",
              "      quickchartButtonEl.classList.add('colab-df-quickchart-complete');\n",
              "    }\n",
              "    (() => {\n",
              "      let quickchartButtonEl =\n",
              "        document.querySelector('#df-25654818-d0ec-4729-9058-a13dc10d1a70 button');\n",
              "      quickchartButtonEl.style.display =\n",
              "        google.colab.kernel.accessAllowed ? 'block' : 'none';\n",
              "    })();\n",
              "  </script>\n",
              "</div>\n",
              "    </div>\n",
              "  </div>\n"
            ]
          },
          "metadata": {},
          "execution_count": 67
        }
      ]
    },
    {
      "cell_type": "markdown",
      "source": [
        "## Iran 1 Dataset"
      ],
      "metadata": {
        "id": "fFsjcOuY2I_i"
      }
    },
    {
      "cell_type": "code",
      "source": [
        "with open('micro_topic_modelling/text_data/iran_1.txt') as f:\n",
        "    lines = f.read()"
      ],
      "metadata": {
        "id": "HiFp5UoW2I_j"
      },
      "execution_count": null,
      "outputs": []
    },
    {
      "cell_type": "code",
      "source": [
        "distr = mtm.pipeline(lines)"
      ],
      "metadata": {
        "colab": {
          "base_uri": "https://localhost:8080/"
        },
        "outputId": "a79acf71-d597-46b7-db97-0ad9adb89310",
        "id": "ommu1_u22I_j"
      },
      "execution_count": null,
      "outputs": [
        {
          "output_type": "stream",
          "name": "stdout",
          "text": [
            "Getting sentence embeddings...\n",
            "Getting sentence clusters...\n"
          ]
        },
        {
          "output_type": "stream",
          "name": "stderr",
          "text": [
            "/usr/local/lib/python3.10/dist-packages/sklearn/cluster/_kmeans.py:1416: FutureWarning: The default value of `n_init` will change from 10 to 'auto' in 1.4. Set the value of `n_init` explicitly to suppress the warning\n",
            "  super()._check_params_vs_input(X, default_n_init=10)\n"
          ]
        },
        {
          "output_type": "stream",
          "name": "stdout",
          "text": [
            "Computing LDA...\n",
            "Preparing your results...\n",
            "Complete!\n"
          ]
        }
      ]
    },
    {
      "cell_type": "code",
      "source": [
        "for key, value in distr.items():\n",
        "    print(key, ':', ', '.join(value))"
      ],
      "metadata": {
        "colab": {
          "base_uri": "https://localhost:8080/"
        },
        "outputId": "53945ff1-2970-464c-ca52-6f79baa1a2a8",
        "id": "2VmFFQH12I_k"
      },
      "execution_count": null,
      "outputs": [
        {
          "output_type": "stream",
          "name": "stdout",
          "text": [
            "topic0 : country, tuesday, nuclear, wednesday, said, weapons, york, general, rights, negotiator, protests, new, raisi, vague, iran, assembly, president\n",
            "topic1 : headscarf, death, iranian, police, year, erfan, said, head, hashtags, tightened, enforcement, amini, women, historic, past, morality, hijab, iran, ebrahim, iranwire\n",
            "topic2 : defiance, hijabs, hashtag, mahsa_amini, police, scarves, waving, taken, flames, protest, hair, posting, cut, headscarves, women, emotional, air, circle, hijab\n",
            "topic3 : country, sound, people, police, arrested, detained, assault, internet, organise, media, difficult, social, story, additional, does, government, independently, regime, cities, president\n",
            "topic4 : kurdish, said, khamenei, mahsa, death, protests, control, amini, women, iranian, resistance, people, iran, cities, president\n",
            "topic5 : demonstrations, death, islamic, heard, iranian, 000, dictator, said, forces, witness, state, protests, tehran, security, government, iran, cities\n",
            "topic6 : dealing, official, deaths, admitted, confirmation, police, said, turn, playbook, case, based, cameras, leaders, state, saying, called, final, violence, independently, promised, sought, attack\n",
            "topic7 : september, arrested, shiraz, piranshahr, kurdistan, custody, arkan, forces, activist, rights, kurdish, killed, protests, capital, women, tehran, province, reports, university, cities\n",
            "topic8 : central, islamic, broader, progressive, men, like, right, popular, movement, define, female, protests, courageous, real, women, platforms, hijab, twente, iran, values\n",
            "topic9 : iranians, blackouts, iranian, activists, internet, said, treasury, dangerous, amini, tehran, license, platforms, government, access, regime, iran, telecommunications\n",
            "topic10 : vehicles, gunfire, teargas, beaten, people, police, arrested, disperse, said, hit, forces, killed, posted, 13, security, video, reports\n",
            "common_key_words : protesters\n"
          ]
        }
      ]
    },
    {
      "cell_type": "code",
      "source": [
        "with open('micro_topic_modelling/text_data/iran_1.txt') as f:\n",
        "    lines = f.readlines()\n",
        "word_frequency, word_frequency_in_documents = prepare_data_for_metrics(lines)"
      ],
      "metadata": {
        "id": "eSVFXjNA2I_m"
      },
      "execution_count": null,
      "outputs": []
    },
    {
      "cell_type": "code",
      "source": [
        "topics = []\n",
        "for key in distr.keys():\n",
        "    if key != 'common_key_words':\n",
        "        topics.append(distr[key])\n",
        "results = count_metrics(topics, word_frequency, word_frequency_in_documents)\n",
        "get_result_table(results)"
      ],
      "metadata": {
        "colab": {
          "base_uri": "https://localhost:8080/",
          "height": 143
        },
        "outputId": "dc002607-3630-4ada-db42-52e3ec33dee5",
        "id": "gBVRBQ5k2I_n"
      },
      "execution_count": null,
      "outputs": [
        {
          "output_type": "execute_result",
          "data": {
            "text/plain": [
              "      Metric         Avg        Std\n",
              "0        PMI   31.475360  32.276422\n",
              "1       NPMI    0.038957   0.033444\n",
              "2  Coherence -109.982014  25.314477"
            ],
            "text/html": [
              "\n",
              "  <div id=\"df-d10ad9be-4de6-4b2a-9da9-43936d17f3dd\" class=\"colab-df-container\">\n",
              "    <div>\n",
              "<style scoped>\n",
              "    .dataframe tbody tr th:only-of-type {\n",
              "        vertical-align: middle;\n",
              "    }\n",
              "\n",
              "    .dataframe tbody tr th {\n",
              "        vertical-align: top;\n",
              "    }\n",
              "\n",
              "    .dataframe thead th {\n",
              "        text-align: right;\n",
              "    }\n",
              "</style>\n",
              "<table border=\"1\" class=\"dataframe\">\n",
              "  <thead>\n",
              "    <tr style=\"text-align: right;\">\n",
              "      <th></th>\n",
              "      <th>Metric</th>\n",
              "      <th>Avg</th>\n",
              "      <th>Std</th>\n",
              "    </tr>\n",
              "  </thead>\n",
              "  <tbody>\n",
              "    <tr>\n",
              "      <th>0</th>\n",
              "      <td>PMI</td>\n",
              "      <td>31.475360</td>\n",
              "      <td>32.276422</td>\n",
              "    </tr>\n",
              "    <tr>\n",
              "      <th>1</th>\n",
              "      <td>NPMI</td>\n",
              "      <td>0.038957</td>\n",
              "      <td>0.033444</td>\n",
              "    </tr>\n",
              "    <tr>\n",
              "      <th>2</th>\n",
              "      <td>Coherence</td>\n",
              "      <td>-109.982014</td>\n",
              "      <td>25.314477</td>\n",
              "    </tr>\n",
              "  </tbody>\n",
              "</table>\n",
              "</div>\n",
              "    <div class=\"colab-df-buttons\">\n",
              "\n",
              "  <div class=\"colab-df-container\">\n",
              "    <button class=\"colab-df-convert\" onclick=\"convertToInteractive('df-d10ad9be-4de6-4b2a-9da9-43936d17f3dd')\"\n",
              "            title=\"Convert this dataframe to an interactive table.\"\n",
              "            style=\"display:none;\">\n",
              "\n",
              "  <svg xmlns=\"http://www.w3.org/2000/svg\" height=\"24px\" viewBox=\"0 -960 960 960\">\n",
              "    <path d=\"M120-120v-720h720v720H120Zm60-500h600v-160H180v160Zm220 220h160v-160H400v160Zm0 220h160v-160H400v160ZM180-400h160v-160H180v160Zm440 0h160v-160H620v160ZM180-180h160v-160H180v160Zm440 0h160v-160H620v160Z\"/>\n",
              "  </svg>\n",
              "    </button>\n",
              "\n",
              "  <style>\n",
              "    .colab-df-container {\n",
              "      display:flex;\n",
              "      gap: 12px;\n",
              "    }\n",
              "\n",
              "    .colab-df-convert {\n",
              "      background-color: #E8F0FE;\n",
              "      border: none;\n",
              "      border-radius: 50%;\n",
              "      cursor: pointer;\n",
              "      display: none;\n",
              "      fill: #1967D2;\n",
              "      height: 32px;\n",
              "      padding: 0 0 0 0;\n",
              "      width: 32px;\n",
              "    }\n",
              "\n",
              "    .colab-df-convert:hover {\n",
              "      background-color: #E2EBFA;\n",
              "      box-shadow: 0px 1px 2px rgba(60, 64, 67, 0.3), 0px 1px 3px 1px rgba(60, 64, 67, 0.15);\n",
              "      fill: #174EA6;\n",
              "    }\n",
              "\n",
              "    .colab-df-buttons div {\n",
              "      margin-bottom: 4px;\n",
              "    }\n",
              "\n",
              "    [theme=dark] .colab-df-convert {\n",
              "      background-color: #3B4455;\n",
              "      fill: #D2E3FC;\n",
              "    }\n",
              "\n",
              "    [theme=dark] .colab-df-convert:hover {\n",
              "      background-color: #434B5C;\n",
              "      box-shadow: 0px 1px 3px 1px rgba(0, 0, 0, 0.15);\n",
              "      filter: drop-shadow(0px 1px 2px rgba(0, 0, 0, 0.3));\n",
              "      fill: #FFFFFF;\n",
              "    }\n",
              "  </style>\n",
              "\n",
              "    <script>\n",
              "      const buttonEl =\n",
              "        document.querySelector('#df-d10ad9be-4de6-4b2a-9da9-43936d17f3dd button.colab-df-convert');\n",
              "      buttonEl.style.display =\n",
              "        google.colab.kernel.accessAllowed ? 'block' : 'none';\n",
              "\n",
              "      async function convertToInteractive(key) {\n",
              "        const element = document.querySelector('#df-d10ad9be-4de6-4b2a-9da9-43936d17f3dd');\n",
              "        const dataTable =\n",
              "          await google.colab.kernel.invokeFunction('convertToInteractive',\n",
              "                                                    [key], {});\n",
              "        if (!dataTable) return;\n",
              "\n",
              "        const docLinkHtml = 'Like what you see? Visit the ' +\n",
              "          '<a target=\"_blank\" href=https://colab.research.google.com/notebooks/data_table.ipynb>data table notebook</a>'\n",
              "          + ' to learn more about interactive tables.';\n",
              "        element.innerHTML = '';\n",
              "        dataTable['output_type'] = 'display_data';\n",
              "        await google.colab.output.renderOutput(dataTable, element);\n",
              "        const docLink = document.createElement('div');\n",
              "        docLink.innerHTML = docLinkHtml;\n",
              "        element.appendChild(docLink);\n",
              "      }\n",
              "    </script>\n",
              "  </div>\n",
              "\n",
              "\n",
              "<div id=\"df-ed78d12e-f5a0-4d39-8728-74f952f81e72\">\n",
              "  <button class=\"colab-df-quickchart\" onclick=\"quickchart('df-ed78d12e-f5a0-4d39-8728-74f952f81e72')\"\n",
              "            title=\"Suggest charts\"\n",
              "            style=\"display:none;\">\n",
              "\n",
              "<svg xmlns=\"http://www.w3.org/2000/svg\" height=\"24px\"viewBox=\"0 0 24 24\"\n",
              "     width=\"24px\">\n",
              "    <g>\n",
              "        <path d=\"M19 3H5c-1.1 0-2 .9-2 2v14c0 1.1.9 2 2 2h14c1.1 0 2-.9 2-2V5c0-1.1-.9-2-2-2zM9 17H7v-7h2v7zm4 0h-2V7h2v10zm4 0h-2v-4h2v4z\"/>\n",
              "    </g>\n",
              "</svg>\n",
              "  </button>\n",
              "\n",
              "<style>\n",
              "  .colab-df-quickchart {\n",
              "      --bg-color: #E8F0FE;\n",
              "      --fill-color: #1967D2;\n",
              "      --hover-bg-color: #E2EBFA;\n",
              "      --hover-fill-color: #174EA6;\n",
              "      --disabled-fill-color: #AAA;\n",
              "      --disabled-bg-color: #DDD;\n",
              "  }\n",
              "\n",
              "  [theme=dark] .colab-df-quickchart {\n",
              "      --bg-color: #3B4455;\n",
              "      --fill-color: #D2E3FC;\n",
              "      --hover-bg-color: #434B5C;\n",
              "      --hover-fill-color: #FFFFFF;\n",
              "      --disabled-bg-color: #3B4455;\n",
              "      --disabled-fill-color: #666;\n",
              "  }\n",
              "\n",
              "  .colab-df-quickchart {\n",
              "    background-color: var(--bg-color);\n",
              "    border: none;\n",
              "    border-radius: 50%;\n",
              "    cursor: pointer;\n",
              "    display: none;\n",
              "    fill: var(--fill-color);\n",
              "    height: 32px;\n",
              "    padding: 0;\n",
              "    width: 32px;\n",
              "  }\n",
              "\n",
              "  .colab-df-quickchart:hover {\n",
              "    background-color: var(--hover-bg-color);\n",
              "    box-shadow: 0 1px 2px rgba(60, 64, 67, 0.3), 0 1px 3px 1px rgba(60, 64, 67, 0.15);\n",
              "    fill: var(--button-hover-fill-color);\n",
              "  }\n",
              "\n",
              "  .colab-df-quickchart-complete:disabled,\n",
              "  .colab-df-quickchart-complete:disabled:hover {\n",
              "    background-color: var(--disabled-bg-color);\n",
              "    fill: var(--disabled-fill-color);\n",
              "    box-shadow: none;\n",
              "  }\n",
              "\n",
              "  .colab-df-spinner {\n",
              "    border: 2px solid var(--fill-color);\n",
              "    border-color: transparent;\n",
              "    border-bottom-color: var(--fill-color);\n",
              "    animation:\n",
              "      spin 1s steps(1) infinite;\n",
              "  }\n",
              "\n",
              "  @keyframes spin {\n",
              "    0% {\n",
              "      border-color: transparent;\n",
              "      border-bottom-color: var(--fill-color);\n",
              "      border-left-color: var(--fill-color);\n",
              "    }\n",
              "    20% {\n",
              "      border-color: transparent;\n",
              "      border-left-color: var(--fill-color);\n",
              "      border-top-color: var(--fill-color);\n",
              "    }\n",
              "    30% {\n",
              "      border-color: transparent;\n",
              "      border-left-color: var(--fill-color);\n",
              "      border-top-color: var(--fill-color);\n",
              "      border-right-color: var(--fill-color);\n",
              "    }\n",
              "    40% {\n",
              "      border-color: transparent;\n",
              "      border-right-color: var(--fill-color);\n",
              "      border-top-color: var(--fill-color);\n",
              "    }\n",
              "    60% {\n",
              "      border-color: transparent;\n",
              "      border-right-color: var(--fill-color);\n",
              "    }\n",
              "    80% {\n",
              "      border-color: transparent;\n",
              "      border-right-color: var(--fill-color);\n",
              "      border-bottom-color: var(--fill-color);\n",
              "    }\n",
              "    90% {\n",
              "      border-color: transparent;\n",
              "      border-bottom-color: var(--fill-color);\n",
              "    }\n",
              "  }\n",
              "</style>\n",
              "\n",
              "  <script>\n",
              "    async function quickchart(key) {\n",
              "      const quickchartButtonEl =\n",
              "        document.querySelector('#' + key + ' button');\n",
              "      quickchartButtonEl.disabled = true;  // To prevent multiple clicks.\n",
              "      quickchartButtonEl.classList.add('colab-df-spinner');\n",
              "      try {\n",
              "        const charts = await google.colab.kernel.invokeFunction(\n",
              "            'suggestCharts', [key], {});\n",
              "      } catch (error) {\n",
              "        console.error('Error during call to suggestCharts:', error);\n",
              "      }\n",
              "      quickchartButtonEl.classList.remove('colab-df-spinner');\n",
              "      quickchartButtonEl.classList.add('colab-df-quickchart-complete');\n",
              "    }\n",
              "    (() => {\n",
              "      let quickchartButtonEl =\n",
              "        document.querySelector('#df-ed78d12e-f5a0-4d39-8728-74f952f81e72 button');\n",
              "      quickchartButtonEl.style.display =\n",
              "        google.colab.kernel.accessAllowed ? 'block' : 'none';\n",
              "    })();\n",
              "  </script>\n",
              "</div>\n",
              "    </div>\n",
              "  </div>\n"
            ]
          },
          "metadata": {},
          "execution_count": 52
        }
      ]
    },
    {
      "cell_type": "markdown",
      "source": [
        "## French Iran Dataset"
      ],
      "metadata": {
        "id": "QD6nicYl2JYs"
      }
    },
    {
      "cell_type": "code",
      "source": [
        "with open('micro_topic_modelling/text_data/iran_fr .txt') as f:\n",
        "    lines = f.read()"
      ],
      "metadata": {
        "id": "ip_7qBY12JYs"
      },
      "execution_count": null,
      "outputs": []
    },
    {
      "cell_type": "code",
      "source": [
        "distr = mtm_fr.pipeline(lines)"
      ],
      "metadata": {
        "colab": {
          "base_uri": "https://localhost:8080/"
        },
        "outputId": "3ff875e3-b499-4ace-865d-86381eac36df",
        "id": "iJdtDjbR2JYt"
      },
      "execution_count": null,
      "outputs": [
        {
          "output_type": "stream",
          "name": "stdout",
          "text": [
            "Getting sentence embeddings...\n",
            "Getting sentence clusters...\n"
          ]
        },
        {
          "output_type": "stream",
          "name": "stderr",
          "text": [
            "/usr/local/lib/python3.10/dist-packages/sklearn/cluster/_kmeans.py:1416: FutureWarning: The default value of `n_init` will change from 10 to 'auto' in 1.4. Set the value of `n_init` explicitly to suppress the warning\n",
            "  super()._check_params_vs_input(X, default_n_init=10)\n"
          ]
        },
        {
          "output_type": "stream",
          "name": "stdout",
          "text": [
            "Computing LDA...\n",
            "Preparing your results...\n",
            "Complete!\n"
          ]
        }
      ]
    },
    {
      "cell_type": "code",
      "source": [
        "for key, value in distr.items():\n",
        "    print(key, ':', ', '.join(value))"
      ],
      "metadata": {
        "colab": {
          "base_uri": "https://localhost:8080/"
        },
        "outputId": "d2579877-e9a9-49d0-904f-5b2595898c0a",
        "id": "CT4SUwQZ2JYu"
      },
      "execution_count": null,
      "outputs": [
        {
          "output_type": "stream",
          "name": "stdout",
          "text": [
            "topic0 : twitter, whatsapp, réseau, accès, instagram, ayatollah, pays, rares, antony, internet, accéder, dont, inaccessibles, afin, accessibles, manifestations, plus, secrétaire, iran, certains\n",
            "topic1 : mœurs, femme, raïssi, selon, chef, mohsen, presse, police, hôpital, emmener, gouverneur, parquet, téhéran, iranien, enquête, déclaré, créer, ebrahim, jeune, troubles\n",
            "topic2 : personnes, aide, homme, fars, fait, instagram, comptes, police, lacrymogènes, derniers, être, agence, gouverneur, gaz, manifestations, iran, arrestations, foule, violences, informer, ailleurs\n",
            "topic3 : détention, puis, mahsa, iranien, étrangères, amini, porte, déclaré, sous, impartiale, mort, police, enquête, sanctions, puissants\n",
            "topic4 : personnes, oui, quand, montre, non, ajouté, repentent, être, orientation, deux, liberté, séances, négligence, virales, sociaux, égalité, plus, cette, foulard, femmes, responsables, etat, interrogé, député\n",
            "topic5 : jeudi, personnes, membres, selon, hommes, enfant, manifestants, similaire, natale, amnesty, forces, international, évoqué, gaz, europe, également, mort, trente, morts, iraniennes, tués, bilan\n",
            "topic6 : mœurs, femme, tête, éléments, police, 2005, iraniens, obligatoire, formée, colère, téhéran, iranien, mort, contre, iran, mortel, femmes, responsables, iraniennes, islamique, jeune\n",
            "topic7 : homme, morte, vers, trois, urgence, veille, hôpital, télévision, rassemblement, annonce, corps, être, jours, après, gouverneur, déclenchées, tombée, manifestations, septembre, aussitôt, tard, etat, coma\n",
            "topic8 : personnes, disperser, cours, sacrifices, côté, bâtiments, voile, manifestants, échec, slogans, armes, agence, eau, kilomètres, emmener, décennies, gaz, permettre, mort, contre, hostiles\n",
            "topic9 : ample, mœurs, mahsa, code, brisé, voie, police, arrêtée, téhéran, amini, septembre, mort, alors, péri, iran, jeune, 21\n",
            "topic10 : ample, six, solidaire, confirmé, temps, cours, selon, cheveux, voile, serrés, etats, étendues, ouest, nord, vêtement, karadj, moins, téhéran, politiques, plus, femmes, vers, depuis, précédent\n",
            "common_key_words : \n"
          ]
        }
      ]
    },
    {
      "cell_type": "code",
      "source": [
        "with open('micro_topic_modelling/text_data/iran_fr .txt') as f:\n",
        "    lines = f.readlines()\n",
        "word_frequency, word_frequency_in_documents = prepare_data_for_metrics(lines)"
      ],
      "metadata": {
        "id": "IM9dq0ly2JYu"
      },
      "execution_count": null,
      "outputs": []
    },
    {
      "cell_type": "code",
      "source": [
        "topics = []\n",
        "for key in distr.keys():\n",
        "    if key != 'common_key_words':\n",
        "        topics.append(distr[key])\n",
        "results = count_metrics(topics, word_frequency, word_frequency_in_documents)\n",
        "get_result_table(results)"
      ],
      "metadata": {
        "colab": {
          "base_uri": "https://localhost:8080/",
          "height": 143
        },
        "outputId": "3935f3a1-8e52-4ef3-ad3a-f6345a431133",
        "id": "14n9WjSy2JYu"
      },
      "execution_count": null,
      "outputs": [
        {
          "output_type": "execute_result",
          "data": {
            "text/plain": [
              "      Metric        Avg        Std\n",
              "0        PMI  79.102385  49.796082\n",
              "1       NPMI   0.080538   0.028063\n",
              "2  Coherence -94.730515  21.422938"
            ],
            "text/html": [
              "\n",
              "  <div id=\"df-aff4ac34-f046-45dd-bd26-2aae9d5fb780\" class=\"colab-df-container\">\n",
              "    <div>\n",
              "<style scoped>\n",
              "    .dataframe tbody tr th:only-of-type {\n",
              "        vertical-align: middle;\n",
              "    }\n",
              "\n",
              "    .dataframe tbody tr th {\n",
              "        vertical-align: top;\n",
              "    }\n",
              "\n",
              "    .dataframe thead th {\n",
              "        text-align: right;\n",
              "    }\n",
              "</style>\n",
              "<table border=\"1\" class=\"dataframe\">\n",
              "  <thead>\n",
              "    <tr style=\"text-align: right;\">\n",
              "      <th></th>\n",
              "      <th>Metric</th>\n",
              "      <th>Avg</th>\n",
              "      <th>Std</th>\n",
              "    </tr>\n",
              "  </thead>\n",
              "  <tbody>\n",
              "    <tr>\n",
              "      <th>0</th>\n",
              "      <td>PMI</td>\n",
              "      <td>79.102385</td>\n",
              "      <td>49.796082</td>\n",
              "    </tr>\n",
              "    <tr>\n",
              "      <th>1</th>\n",
              "      <td>NPMI</td>\n",
              "      <td>0.080538</td>\n",
              "      <td>0.028063</td>\n",
              "    </tr>\n",
              "    <tr>\n",
              "      <th>2</th>\n",
              "      <td>Coherence</td>\n",
              "      <td>-94.730515</td>\n",
              "      <td>21.422938</td>\n",
              "    </tr>\n",
              "  </tbody>\n",
              "</table>\n",
              "</div>\n",
              "    <div class=\"colab-df-buttons\">\n",
              "\n",
              "  <div class=\"colab-df-container\">\n",
              "    <button class=\"colab-df-convert\" onclick=\"convertToInteractive('df-aff4ac34-f046-45dd-bd26-2aae9d5fb780')\"\n",
              "            title=\"Convert this dataframe to an interactive table.\"\n",
              "            style=\"display:none;\">\n",
              "\n",
              "  <svg xmlns=\"http://www.w3.org/2000/svg\" height=\"24px\" viewBox=\"0 -960 960 960\">\n",
              "    <path d=\"M120-120v-720h720v720H120Zm60-500h600v-160H180v160Zm220 220h160v-160H400v160Zm0 220h160v-160H400v160ZM180-400h160v-160H180v160Zm440 0h160v-160H620v160ZM180-180h160v-160H180v160Zm440 0h160v-160H620v160Z\"/>\n",
              "  </svg>\n",
              "    </button>\n",
              "\n",
              "  <style>\n",
              "    .colab-df-container {\n",
              "      display:flex;\n",
              "      gap: 12px;\n",
              "    }\n",
              "\n",
              "    .colab-df-convert {\n",
              "      background-color: #E8F0FE;\n",
              "      border: none;\n",
              "      border-radius: 50%;\n",
              "      cursor: pointer;\n",
              "      display: none;\n",
              "      fill: #1967D2;\n",
              "      height: 32px;\n",
              "      padding: 0 0 0 0;\n",
              "      width: 32px;\n",
              "    }\n",
              "\n",
              "    .colab-df-convert:hover {\n",
              "      background-color: #E2EBFA;\n",
              "      box-shadow: 0px 1px 2px rgba(60, 64, 67, 0.3), 0px 1px 3px 1px rgba(60, 64, 67, 0.15);\n",
              "      fill: #174EA6;\n",
              "    }\n",
              "\n",
              "    .colab-df-buttons div {\n",
              "      margin-bottom: 4px;\n",
              "    }\n",
              "\n",
              "    [theme=dark] .colab-df-convert {\n",
              "      background-color: #3B4455;\n",
              "      fill: #D2E3FC;\n",
              "    }\n",
              "\n",
              "    [theme=dark] .colab-df-convert:hover {\n",
              "      background-color: #434B5C;\n",
              "      box-shadow: 0px 1px 3px 1px rgba(0, 0, 0, 0.15);\n",
              "      filter: drop-shadow(0px 1px 2px rgba(0, 0, 0, 0.3));\n",
              "      fill: #FFFFFF;\n",
              "    }\n",
              "  </style>\n",
              "\n",
              "    <script>\n",
              "      const buttonEl =\n",
              "        document.querySelector('#df-aff4ac34-f046-45dd-bd26-2aae9d5fb780 button.colab-df-convert');\n",
              "      buttonEl.style.display =\n",
              "        google.colab.kernel.accessAllowed ? 'block' : 'none';\n",
              "\n",
              "      async function convertToInteractive(key) {\n",
              "        const element = document.querySelector('#df-aff4ac34-f046-45dd-bd26-2aae9d5fb780');\n",
              "        const dataTable =\n",
              "          await google.colab.kernel.invokeFunction('convertToInteractive',\n",
              "                                                    [key], {});\n",
              "        if (!dataTable) return;\n",
              "\n",
              "        const docLinkHtml = 'Like what you see? Visit the ' +\n",
              "          '<a target=\"_blank\" href=https://colab.research.google.com/notebooks/data_table.ipynb>data table notebook</a>'\n",
              "          + ' to learn more about interactive tables.';\n",
              "        element.innerHTML = '';\n",
              "        dataTable['output_type'] = 'display_data';\n",
              "        await google.colab.output.renderOutput(dataTable, element);\n",
              "        const docLink = document.createElement('div');\n",
              "        docLink.innerHTML = docLinkHtml;\n",
              "        element.appendChild(docLink);\n",
              "      }\n",
              "    </script>\n",
              "  </div>\n",
              "\n",
              "\n",
              "<div id=\"df-82245357-71d9-48f1-b68c-d5b263419dac\">\n",
              "  <button class=\"colab-df-quickchart\" onclick=\"quickchart('df-82245357-71d9-48f1-b68c-d5b263419dac')\"\n",
              "            title=\"Suggest charts\"\n",
              "            style=\"display:none;\">\n",
              "\n",
              "<svg xmlns=\"http://www.w3.org/2000/svg\" height=\"24px\"viewBox=\"0 0 24 24\"\n",
              "     width=\"24px\">\n",
              "    <g>\n",
              "        <path d=\"M19 3H5c-1.1 0-2 .9-2 2v14c0 1.1.9 2 2 2h14c1.1 0 2-.9 2-2V5c0-1.1-.9-2-2-2zM9 17H7v-7h2v7zm4 0h-2V7h2v10zm4 0h-2v-4h2v4z\"/>\n",
              "    </g>\n",
              "</svg>\n",
              "  </button>\n",
              "\n",
              "<style>\n",
              "  .colab-df-quickchart {\n",
              "      --bg-color: #E8F0FE;\n",
              "      --fill-color: #1967D2;\n",
              "      --hover-bg-color: #E2EBFA;\n",
              "      --hover-fill-color: #174EA6;\n",
              "      --disabled-fill-color: #AAA;\n",
              "      --disabled-bg-color: #DDD;\n",
              "  }\n",
              "\n",
              "  [theme=dark] .colab-df-quickchart {\n",
              "      --bg-color: #3B4455;\n",
              "      --fill-color: #D2E3FC;\n",
              "      --hover-bg-color: #434B5C;\n",
              "      --hover-fill-color: #FFFFFF;\n",
              "      --disabled-bg-color: #3B4455;\n",
              "      --disabled-fill-color: #666;\n",
              "  }\n",
              "\n",
              "  .colab-df-quickchart {\n",
              "    background-color: var(--bg-color);\n",
              "    border: none;\n",
              "    border-radius: 50%;\n",
              "    cursor: pointer;\n",
              "    display: none;\n",
              "    fill: var(--fill-color);\n",
              "    height: 32px;\n",
              "    padding: 0;\n",
              "    width: 32px;\n",
              "  }\n",
              "\n",
              "  .colab-df-quickchart:hover {\n",
              "    background-color: var(--hover-bg-color);\n",
              "    box-shadow: 0 1px 2px rgba(60, 64, 67, 0.3), 0 1px 3px 1px rgba(60, 64, 67, 0.15);\n",
              "    fill: var(--button-hover-fill-color);\n",
              "  }\n",
              "\n",
              "  .colab-df-quickchart-complete:disabled,\n",
              "  .colab-df-quickchart-complete:disabled:hover {\n",
              "    background-color: var(--disabled-bg-color);\n",
              "    fill: var(--disabled-fill-color);\n",
              "    box-shadow: none;\n",
              "  }\n",
              "\n",
              "  .colab-df-spinner {\n",
              "    border: 2px solid var(--fill-color);\n",
              "    border-color: transparent;\n",
              "    border-bottom-color: var(--fill-color);\n",
              "    animation:\n",
              "      spin 1s steps(1) infinite;\n",
              "  }\n",
              "\n",
              "  @keyframes spin {\n",
              "    0% {\n",
              "      border-color: transparent;\n",
              "      border-bottom-color: var(--fill-color);\n",
              "      border-left-color: var(--fill-color);\n",
              "    }\n",
              "    20% {\n",
              "      border-color: transparent;\n",
              "      border-left-color: var(--fill-color);\n",
              "      border-top-color: var(--fill-color);\n",
              "    }\n",
              "    30% {\n",
              "      border-color: transparent;\n",
              "      border-left-color: var(--fill-color);\n",
              "      border-top-color: var(--fill-color);\n",
              "      border-right-color: var(--fill-color);\n",
              "    }\n",
              "    40% {\n",
              "      border-color: transparent;\n",
              "      border-right-color: var(--fill-color);\n",
              "      border-top-color: var(--fill-color);\n",
              "    }\n",
              "    60% {\n",
              "      border-color: transparent;\n",
              "      border-right-color: var(--fill-color);\n",
              "    }\n",
              "    80% {\n",
              "      border-color: transparent;\n",
              "      border-right-color: var(--fill-color);\n",
              "      border-bottom-color: var(--fill-color);\n",
              "    }\n",
              "    90% {\n",
              "      border-color: transparent;\n",
              "      border-bottom-color: var(--fill-color);\n",
              "    }\n",
              "  }\n",
              "</style>\n",
              "\n",
              "  <script>\n",
              "    async function quickchart(key) {\n",
              "      const quickchartButtonEl =\n",
              "        document.querySelector('#' + key + ' button');\n",
              "      quickchartButtonEl.disabled = true;  // To prevent multiple clicks.\n",
              "      quickchartButtonEl.classList.add('colab-df-spinner');\n",
              "      try {\n",
              "        const charts = await google.colab.kernel.invokeFunction(\n",
              "            'suggestCharts', [key], {});\n",
              "      } catch (error) {\n",
              "        console.error('Error during call to suggestCharts:', error);\n",
              "      }\n",
              "      quickchartButtonEl.classList.remove('colab-df-spinner');\n",
              "      quickchartButtonEl.classList.add('colab-df-quickchart-complete');\n",
              "    }\n",
              "    (() => {\n",
              "      let quickchartButtonEl =\n",
              "        document.querySelector('#df-82245357-71d9-48f1-b68c-d5b263419dac button');\n",
              "      quickchartButtonEl.style.display =\n",
              "        google.colab.kernel.accessAllowed ? 'block' : 'none';\n",
              "    })();\n",
              "  </script>\n",
              "</div>\n",
              "    </div>\n",
              "  </div>\n"
            ]
          },
          "metadata": {},
          "execution_count": 75
        }
      ]
    }
  ]
}