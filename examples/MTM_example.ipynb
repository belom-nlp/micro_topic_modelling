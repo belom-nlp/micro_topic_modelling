{
  "nbformat": 4,
  "nbformat_minor": 0,
  "metadata": {
    "colab": {
      "provenance": [],
      "gpuType": "T4",
      "authorship_tag": "ABX9TyN95+fvnnOThE9Yw8UyJkZE",
      "include_colab_link": true
    },
    "kernelspec": {
      "name": "python3",
      "display_name": "Python 3"
    },
    "language_info": {
      "name": "python"
    },
    "accelerator": "GPU",
    "widgets": {
      "application/vnd.jupyter.widget-state+json": {
        "fc62778afdc247a2b954b944da35c805": {
          "model_module": "@jupyter-widgets/controls",
          "model_name": "HBoxModel",
          "model_module_version": "1.5.0",
          "state": {
            "_dom_classes": [],
            "_model_module": "@jupyter-widgets/controls",
            "_model_module_version": "1.5.0",
            "_model_name": "HBoxModel",
            "_view_count": null,
            "_view_module": "@jupyter-widgets/controls",
            "_view_module_version": "1.5.0",
            "_view_name": "HBoxView",
            "box_style": "",
            "children": [
              "IPY_MODEL_ae72db985da94df2866be0c89e626fef",
              "IPY_MODEL_50b5f2b0af324dedafd9c94833d4b3b6",
              "IPY_MODEL_d4d3d9d2a0fd47dea5819cab6dbcaa66"
            ],
            "layout": "IPY_MODEL_b7963a40f2f54c4496adc5b2d69243a9"
          }
        },
        "ae72db985da94df2866be0c89e626fef": {
          "model_module": "@jupyter-widgets/controls",
          "model_name": "HTMLModel",
          "model_module_version": "1.5.0",
          "state": {
            "_dom_classes": [],
            "_model_module": "@jupyter-widgets/controls",
            "_model_module_version": "1.5.0",
            "_model_name": "HTMLModel",
            "_view_count": null,
            "_view_module": "@jupyter-widgets/controls",
            "_view_module_version": "1.5.0",
            "_view_name": "HTMLView",
            "description": "",
            "description_tooltip": null,
            "layout": "IPY_MODEL_66e436bee4e94766a7372257fe0d4f5d",
            "placeholder": "​",
            "style": "IPY_MODEL_ac12e153930444429cd38491256d6029",
            "value": "Batches: 100%"
          }
        },
        "50b5f2b0af324dedafd9c94833d4b3b6": {
          "model_module": "@jupyter-widgets/controls",
          "model_name": "FloatProgressModel",
          "model_module_version": "1.5.0",
          "state": {
            "_dom_classes": [],
            "_model_module": "@jupyter-widgets/controls",
            "_model_module_version": "1.5.0",
            "_model_name": "FloatProgressModel",
            "_view_count": null,
            "_view_module": "@jupyter-widgets/controls",
            "_view_module_version": "1.5.0",
            "_view_name": "ProgressView",
            "bar_style": "success",
            "description": "",
            "description_tooltip": null,
            "layout": "IPY_MODEL_d7b49d95657248b4abff70799724b151",
            "max": 3,
            "min": 0,
            "orientation": "horizontal",
            "style": "IPY_MODEL_73441476256b4ed98722d0c9814b3a57",
            "value": 3
          }
        },
        "d4d3d9d2a0fd47dea5819cab6dbcaa66": {
          "model_module": "@jupyter-widgets/controls",
          "model_name": "HTMLModel",
          "model_module_version": "1.5.0",
          "state": {
            "_dom_classes": [],
            "_model_module": "@jupyter-widgets/controls",
            "_model_module_version": "1.5.0",
            "_model_name": "HTMLModel",
            "_view_count": null,
            "_view_module": "@jupyter-widgets/controls",
            "_view_module_version": "1.5.0",
            "_view_name": "HTMLView",
            "description": "",
            "description_tooltip": null,
            "layout": "IPY_MODEL_75dee3f72a944bae97a4f2b7b8062fdc",
            "placeholder": "​",
            "style": "IPY_MODEL_7c910409e7874ab7b3eb4fee0b8e931c",
            "value": " 3/3 [00:02&lt;00:00,  1.28s/it]"
          }
        },
        "b7963a40f2f54c4496adc5b2d69243a9": {
          "model_module": "@jupyter-widgets/base",
          "model_name": "LayoutModel",
          "model_module_version": "1.2.0",
          "state": {
            "_model_module": "@jupyter-widgets/base",
            "_model_module_version": "1.2.0",
            "_model_name": "LayoutModel",
            "_view_count": null,
            "_view_module": "@jupyter-widgets/base",
            "_view_module_version": "1.2.0",
            "_view_name": "LayoutView",
            "align_content": null,
            "align_items": null,
            "align_self": null,
            "border": null,
            "bottom": null,
            "display": null,
            "flex": null,
            "flex_flow": null,
            "grid_area": null,
            "grid_auto_columns": null,
            "grid_auto_flow": null,
            "grid_auto_rows": null,
            "grid_column": null,
            "grid_gap": null,
            "grid_row": null,
            "grid_template_areas": null,
            "grid_template_columns": null,
            "grid_template_rows": null,
            "height": null,
            "justify_content": null,
            "justify_items": null,
            "left": null,
            "margin": null,
            "max_height": null,
            "max_width": null,
            "min_height": null,
            "min_width": null,
            "object_fit": null,
            "object_position": null,
            "order": null,
            "overflow": null,
            "overflow_x": null,
            "overflow_y": null,
            "padding": null,
            "right": null,
            "top": null,
            "visibility": null,
            "width": null
          }
        },
        "66e436bee4e94766a7372257fe0d4f5d": {
          "model_module": "@jupyter-widgets/base",
          "model_name": "LayoutModel",
          "model_module_version": "1.2.0",
          "state": {
            "_model_module": "@jupyter-widgets/base",
            "_model_module_version": "1.2.0",
            "_model_name": "LayoutModel",
            "_view_count": null,
            "_view_module": "@jupyter-widgets/base",
            "_view_module_version": "1.2.0",
            "_view_name": "LayoutView",
            "align_content": null,
            "align_items": null,
            "align_self": null,
            "border": null,
            "bottom": null,
            "display": null,
            "flex": null,
            "flex_flow": null,
            "grid_area": null,
            "grid_auto_columns": null,
            "grid_auto_flow": null,
            "grid_auto_rows": null,
            "grid_column": null,
            "grid_gap": null,
            "grid_row": null,
            "grid_template_areas": null,
            "grid_template_columns": null,
            "grid_template_rows": null,
            "height": null,
            "justify_content": null,
            "justify_items": null,
            "left": null,
            "margin": null,
            "max_height": null,
            "max_width": null,
            "min_height": null,
            "min_width": null,
            "object_fit": null,
            "object_position": null,
            "order": null,
            "overflow": null,
            "overflow_x": null,
            "overflow_y": null,
            "padding": null,
            "right": null,
            "top": null,
            "visibility": null,
            "width": null
          }
        },
        "ac12e153930444429cd38491256d6029": {
          "model_module": "@jupyter-widgets/controls",
          "model_name": "DescriptionStyleModel",
          "model_module_version": "1.5.0",
          "state": {
            "_model_module": "@jupyter-widgets/controls",
            "_model_module_version": "1.5.0",
            "_model_name": "DescriptionStyleModel",
            "_view_count": null,
            "_view_module": "@jupyter-widgets/base",
            "_view_module_version": "1.2.0",
            "_view_name": "StyleView",
            "description_width": ""
          }
        },
        "d7b49d95657248b4abff70799724b151": {
          "model_module": "@jupyter-widgets/base",
          "model_name": "LayoutModel",
          "model_module_version": "1.2.0",
          "state": {
            "_model_module": "@jupyter-widgets/base",
            "_model_module_version": "1.2.0",
            "_model_name": "LayoutModel",
            "_view_count": null,
            "_view_module": "@jupyter-widgets/base",
            "_view_module_version": "1.2.0",
            "_view_name": "LayoutView",
            "align_content": null,
            "align_items": null,
            "align_self": null,
            "border": null,
            "bottom": null,
            "display": null,
            "flex": null,
            "flex_flow": null,
            "grid_area": null,
            "grid_auto_columns": null,
            "grid_auto_flow": null,
            "grid_auto_rows": null,
            "grid_column": null,
            "grid_gap": null,
            "grid_row": null,
            "grid_template_areas": null,
            "grid_template_columns": null,
            "grid_template_rows": null,
            "height": null,
            "justify_content": null,
            "justify_items": null,
            "left": null,
            "margin": null,
            "max_height": null,
            "max_width": null,
            "min_height": null,
            "min_width": null,
            "object_fit": null,
            "object_position": null,
            "order": null,
            "overflow": null,
            "overflow_x": null,
            "overflow_y": null,
            "padding": null,
            "right": null,
            "top": null,
            "visibility": null,
            "width": null
          }
        },
        "73441476256b4ed98722d0c9814b3a57": {
          "model_module": "@jupyter-widgets/controls",
          "model_name": "ProgressStyleModel",
          "model_module_version": "1.5.0",
          "state": {
            "_model_module": "@jupyter-widgets/controls",
            "_model_module_version": "1.5.0",
            "_model_name": "ProgressStyleModel",
            "_view_count": null,
            "_view_module": "@jupyter-widgets/base",
            "_view_module_version": "1.2.0",
            "_view_name": "StyleView",
            "bar_color": null,
            "description_width": ""
          }
        },
        "75dee3f72a944bae97a4f2b7b8062fdc": {
          "model_module": "@jupyter-widgets/base",
          "model_name": "LayoutModel",
          "model_module_version": "1.2.0",
          "state": {
            "_model_module": "@jupyter-widgets/base",
            "_model_module_version": "1.2.0",
            "_model_name": "LayoutModel",
            "_view_count": null,
            "_view_module": "@jupyter-widgets/base",
            "_view_module_version": "1.2.0",
            "_view_name": "LayoutView",
            "align_content": null,
            "align_items": null,
            "align_self": null,
            "border": null,
            "bottom": null,
            "display": null,
            "flex": null,
            "flex_flow": null,
            "grid_area": null,
            "grid_auto_columns": null,
            "grid_auto_flow": null,
            "grid_auto_rows": null,
            "grid_column": null,
            "grid_gap": null,
            "grid_row": null,
            "grid_template_areas": null,
            "grid_template_columns": null,
            "grid_template_rows": null,
            "height": null,
            "justify_content": null,
            "justify_items": null,
            "left": null,
            "margin": null,
            "max_height": null,
            "max_width": null,
            "min_height": null,
            "min_width": null,
            "object_fit": null,
            "object_position": null,
            "order": null,
            "overflow": null,
            "overflow_x": null,
            "overflow_y": null,
            "padding": null,
            "right": null,
            "top": null,
            "visibility": null,
            "width": null
          }
        },
        "7c910409e7874ab7b3eb4fee0b8e931c": {
          "model_module": "@jupyter-widgets/controls",
          "model_name": "DescriptionStyleModel",
          "model_module_version": "1.5.0",
          "state": {
            "_model_module": "@jupyter-widgets/controls",
            "_model_module_version": "1.5.0",
            "_model_name": "DescriptionStyleModel",
            "_view_count": null,
            "_view_module": "@jupyter-widgets/base",
            "_view_module_version": "1.2.0",
            "_view_name": "StyleView",
            "description_width": ""
          }
        }
      }
    }
  },
  "cells": [
    {
      "cell_type": "markdown",
      "metadata": {
        "id": "view-in-github",
        "colab_type": "text"
      },
      "source": [
        "<a href=\"https://colab.research.google.com/github/belom-nlp/micro_topic_modelling/blob/main/examples/MTM_example.ipynb\" target=\"_parent\"><img src=\"https://colab.research.google.com/assets/colab-badge.svg\" alt=\"Open In Colab\"/></a>"
      ]
    },
    {
      "cell_type": "markdown",
      "source": [
        "Installing and importing necessary libraries. Class initialization"
      ],
      "metadata": {
        "id": "TsxLQlRd4UTq"
      }
    },
    {
      "cell_type": "code",
      "execution_count": null,
      "metadata": {
        "id": "eopNQHu74RAW"
      },
      "outputs": [],
      "source": [
        "from IPython.display import clear_output\n",
        "! pip install sentence_transformers\n",
        "\n",
        "!pip uninstall scikit-learn -y\n",
        "\n",
        "!pip install -U scikit-learn\n",
        "\n",
        "import nltk\n",
        "nltk.download('punkt')\n",
        "\n",
        "from collections import Counter\n",
        "\n",
        "import numpy as np\n",
        "\n",
        "import torch\n",
        "\n",
        "from sklearn.decomposition import PCA\n",
        "from sklearn.cluster import HDBSCAN, KMeans\n",
        "from sklearn.feature_extraction.text import CountVectorizer\n",
        "from sklearn.decomposition import LatentDirichletAllocation, PCA\n",
        "\n",
        "from nltk.tokenize import sent_tokenize\n",
        "from nltk.corpus import stopwords\n",
        "\n",
        "from sentence_transformers import SentenceTransformer\n",
        "\n",
        "clear_output()"
      ]
    },
    {
      "cell_type": "code",
      "source": [
        "from model import MicroTopicModeller"
      ],
      "metadata": {
        "id": "SZnDx9PmlW7-"
      },
      "execution_count": null,
      "outputs": []
    },
    {
      "cell_type": "code",
      "source": [
        "mtm = MicroTopicModeller(n_clusters=10, use_cuda=True)"
      ],
      "metadata": {
        "id": "uD-6MrwdYOL1"
      },
      "execution_count": null,
      "outputs": []
    },
    {
      "cell_type": "code",
      "source": [
        "kw = mtm.pipeline('text_data/morocco.txt')"
      ],
      "metadata": {
        "colab": {
          "base_uri": "https://localhost:8080/",
          "height": 190,
          "referenced_widgets": [
            "fc62778afdc247a2b954b944da35c805",
            "ae72db985da94df2866be0c89e626fef",
            "50b5f2b0af324dedafd9c94833d4b3b6",
            "d4d3d9d2a0fd47dea5819cab6dbcaa66",
            "b7963a40f2f54c4496adc5b2d69243a9",
            "66e436bee4e94766a7372257fe0d4f5d",
            "ac12e153930444429cd38491256d6029",
            "d7b49d95657248b4abff70799724b151",
            "73441476256b4ed98722d0c9814b3a57",
            "75dee3f72a944bae97a4f2b7b8062fdc",
            "7c910409e7874ab7b3eb4fee0b8e931c"
          ]
        },
        "id": "pSHK8UTRadNq",
        "outputId": "261423b9-158d-49a5-c382-3ccbf13244f1"
      },
      "execution_count": null,
      "outputs": [
        {
          "output_type": "stream",
          "name": "stdout",
          "text": [
            "Getting sentence embeddings...\n"
          ]
        },
        {
          "output_type": "display_data",
          "data": {
            "text/plain": [
              "Batches:   0%|          | 0/3 [00:00<?, ?it/s]"
            ],
            "application/vnd.jupyter.widget-view+json": {
              "version_major": 2,
              "version_minor": 0,
              "model_id": "fc62778afdc247a2b954b944da35c805"
            }
          },
          "metadata": {}
        },
        {
          "output_type": "stream",
          "name": "stdout",
          "text": [
            "Getting sentence clusters...\n"
          ]
        },
        {
          "output_type": "stream",
          "name": "stderr",
          "text": [
            "/usr/local/lib/python3.10/dist-packages/sklearn/cluster/_kmeans.py:1416: FutureWarning: The default value of `n_init` will change from 10 to 'auto' in 1.4. Set the value of `n_init` explicitly to suppress the warning\n",
            "  super()._check_params_vs_input(X, default_n_init=10)\n"
          ]
        },
        {
          "output_type": "stream",
          "name": "stdout",
          "text": [
            "Computing LDA...\n",
            "Preparing your results...\n",
            "Complete!\n"
          ]
        }
      ]
    },
    {
      "cell_type": "code",
      "source": [
        "kw"
      ],
      "metadata": {
        "colab": {
          "base_uri": "https://localhost:8080/"
        },
        "id": "-N991SE6akZ0",
        "outputId": "af9025a2-9833-4b64-c841-68c5087fc6ad"
      },
      "execution_count": null,
      "outputs": [
        {
          "output_type": "execute_result",
          "data": {
            "text/plain": [
              "{'topic0': ['girls',\n",
              "  'house',\n",
              "  'reach',\n",
              "  'earthquake',\n",
              "  'villagers',\n",
              "  'concrete',\n",
              "  'education',\n",
              "  'little',\n",
              "  'atlas',\n",
              "  'road',\n",
              "  'mountains',\n",
              "  'houses',\n",
              "  'services',\n",
              "  'village',\n",
              "  'region',\n",
              "  'traffic',\n",
              "  'remote',\n",
              "  'haouz',\n",
              "  'villages'],\n",
              " 'topic1': ['bodies',\n",
              "  'epicentre',\n",
              "  'health',\n",
              "  'killed',\n",
              "  'reported',\n",
              "  'al',\n",
              "  'mayor',\n",
              "  'morning',\n",
              "  'marrakech',\n",
              "  'old',\n",
              "  'square',\n",
              "  'city',\n",
              "  '000',\n",
              "  'injured',\n",
              "  'died',\n",
              "  'toll',\n",
              "  'people'],\n",
              " 'topic2': ['just',\n",
              "  'house',\n",
              "  'earthquake',\n",
              "  'didn',\n",
              "  'aftershocks',\n",
              "  'emergency',\n",
              "  'help',\n",
              "  'know',\n",
              "  'situation',\n",
              "  'vans',\n",
              "  'meeting',\n",
              "  'yaaqoub',\n",
              "  'struck',\n",
              "  'hours',\n",
              "  'wife',\n",
              "  'managed',\n",
              "  'brought',\n",
              "  'sleep',\n",
              "  'people'],\n",
              " 'topic3': ['term',\n",
              "  '10',\n",
              "  'raja',\n",
              "  'young',\n",
              "  'national',\n",
              "  'deployed',\n",
              "  'soldiers',\n",
              "  'france',\n",
              "  'aus',\n",
              "  'teams',\n",
              "  'route',\n",
              "  'intrepid',\n",
              "  'atlas',\n",
              "  'travel',\n",
              "  '16',\n",
              "  'marrakech',\n",
              "  'search',\n",
              "  'rescue',\n",
              "  'international',\n",
              "  'mountains'],\n",
              " 'topic4': ['earthquake',\n",
              "  'killed',\n",
              "  'survivors',\n",
              "  'houses',\n",
              "  'marrakech',\n",
              "  'magnitude',\n",
              "  'quake',\n",
              "  'south',\n",
              "  'rescue',\n",
              "  'people',\n",
              "  'miles',\n",
              "  '000',\n",
              "  'active',\n",
              "  'mountains'],\n",
              " 'topic5': ['earthquake',\n",
              "  'heart',\n",
              "  'saturday',\n",
              "  'kettou',\n",
              "  'epicentre',\n",
              "  'ighil',\n",
              "  'family',\n",
              "  'ajdir',\n",
              "  'al',\n",
              "  'marrakech',\n",
              "  'du',\n",
              "  'ntalghoumt',\n",
              "  'centred',\n",
              "  'hamlets',\n",
              "  'village',\n",
              "  'readings',\n",
              "  'described',\n",
              "  'miles',\n",
              "  'haouz',\n",
              "  'region'],\n",
              " 'topic6': ['just',\n",
              "  'place',\n",
              "  'community',\n",
              "  'don',\n",
              "  'reached',\n",
              "  'little',\n",
              "  'children',\n",
              "  'hid',\n",
              "  'save',\n",
              "  'short',\n",
              "  'survivors',\n",
              "  'impact',\n",
              "  'search',\n",
              "  'old',\n",
              "  'room',\n",
              "  'electricity',\n",
              "  'riad',\n",
              "  'story',\n",
              "  'trapped',\n",
              "  'moment',\n",
              "  'daughter',\n",
              "  'brought',\n",
              "  'ongoing',\n",
              "  'efforts',\n",
              "  'similar'],\n",
              " 'topic7': ['earthquake',\n",
              "  'government',\n",
              "  'place',\n",
              "  'moroccan',\n",
              "  'education',\n",
              "  'controversies',\n",
              "  'governance',\n",
              "  'libya',\n",
              "  'assistance',\n",
              "  'work',\n",
              "  'state',\n",
              "  'beaumont',\n",
              "  'international',\n",
              "  'question',\n",
              "  'king',\n",
              "  'governing'],\n",
              " 'topic8': ['minister',\n",
              "  'help',\n",
              "  'moroccan',\n",
              "  'national',\n",
              "  'macron',\n",
              "  'relations',\n",
              "  'days',\n",
              "  'france',\n",
              "  'spain',\n",
              "  'state',\n",
              "  'people'],\n",
              " 'common_key_words': ['aid', 'morocco', 'said']}"
            ]
          },
          "metadata": {},
          "execution_count": 26
        }
      ]
    }
  ]
}